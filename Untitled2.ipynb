{
 "cells": [
  {
   "cell_type": "code",
   "execution_count": 1,
   "metadata": {},
   "outputs": [],
   "source": [
    "import vaex\n",
    "import pandas as pd\n",
    "import numpy as np"
   ]
  },
  {
   "cell_type": "code",
   "execution_count": 2,
   "metadata": {},
   "outputs": [],
   "source": [
    "vaex_df=vaex.open('combined_csv.csv.hdf5')"
   ]
  },
  {
   "cell_type": "code",
   "execution_count": 3,
   "metadata": {
    "scrolled": true
   },
   "outputs": [
    {
     "data": {
      "text/html": [
       "<table>\n",
       "<thead>\n",
       "<tr><th>#                            </th><th style=\"text-align: right;\">  timestamp</th><th style=\"text-align: right;\">  rel_time</th><th style=\"text-align: right;\">   acc_x</th><th style=\"text-align: right;\">  acc_y</th><th style=\"text-align: right;\">   acc_z</th><th style=\"text-align: right;\">    gyro_x</th><th style=\"text-align: right;\">    gyro_y</th><th style=\"text-align: right;\">     gyro_z</th><th style=\"text-align: right;\">  azimuth</th><th style=\"text-align: right;\">   pitch</th><th style=\"text-align: right;\">    roll</th><th>label  </th></tr>\n",
       "</thead>\n",
       "<tbody>\n",
       "<tr><td><i style='opacity: 0.6'>0</i></td><td style=\"text-align: right;\">1.29541e+12</td><td style=\"text-align: right;\">  0       </td><td style=\"text-align: right;\">-1.40731</td><td style=\"text-align: right;\">9.6144 </td><td style=\"text-align: right;\">-2.08667</td><td style=\"text-align: right;\">-0.844216 </td><td style=\"text-align: right;\"> 0.40928  </td><td style=\"text-align: right;\"> 0.0864374 </td><td style=\"text-align: right;\">  92.7469</td><td style=\"text-align: right;\">-36.8797</td><td style=\"text-align: right;\">-11.7411</td><td>&#x27;STD&#x27;  </td></tr>\n",
       "<tr><td><i style='opacity: 0.6'>1</i></td><td style=\"text-align: right;\">1.29541e+12</td><td style=\"text-align: right;\">  0.005001</td><td style=\"text-align: right;\">-1.40635</td><td style=\"text-align: right;\">9.61296</td><td style=\"text-align: right;\">-2.08451</td><td style=\"text-align: right;\">-0.711047 </td><td style=\"text-align: right;\"> 0.346971 </td><td style=\"text-align: right;\"> 0.0763582 </td><td style=\"text-align: right;\">  92.2054</td><td style=\"text-align: right;\">-37.4702</td><td style=\"text-align: right;\">-11.8398</td><td>&#x27;STD&#x27;  </td></tr>\n",
       "<tr><td><i style='opacity: 0.6'>2</i></td><td style=\"text-align: right;\">1.29542e+12</td><td style=\"text-align: right;\">  0.010091</td><td style=\"text-align: right;\">-1.40538</td><td style=\"text-align: right;\">9.6115 </td><td style=\"text-align: right;\">-2.08232</td><td style=\"text-align: right;\">-0.598953 </td><td style=\"text-align: right;\"> 0.0934624</td><td style=\"text-align: right;\"> 0.0250455 </td><td style=\"text-align: right;\">  91.743 </td><td style=\"text-align: right;\">-38.0908</td><td style=\"text-align: right;\">-11.8809</td><td>&#x27;STD&#x27;  </td></tr>\n",
       "<tr><td><i style='opacity: 0.6'>3</i></td><td style=\"text-align: right;\">1.29542e+12</td><td style=\"text-align: right;\">  0.015046</td><td style=\"text-align: right;\">-1.40443</td><td style=\"text-align: right;\">9.61008</td><td style=\"text-align: right;\">-2.08019</td><td style=\"text-align: right;\">-0.128893 </td><td style=\"text-align: right;\">-0.0128282</td><td style=\"text-align: right;\">-0.00244346</td><td style=\"text-align: right;\">  91.2673</td><td style=\"text-align: right;\">-38.8429</td><td style=\"text-align: right;\">-11.9337</td><td>&#x27;STD&#x27;  </td></tr>\n",
       "<tr><td><i style='opacity: 0.6'>4</i></td><td style=\"text-align: right;\">1.29543e+12</td><td style=\"text-align: right;\">  0.019996</td><td style=\"text-align: right;\">-1.40348</td><td style=\"text-align: right;\">9.60865</td><td style=\"text-align: right;\">-2.07805</td><td style=\"text-align: right;\"> 0.0494801</td><td style=\"text-align: right;\"> 0.018326 </td><td style=\"text-align: right;\"> 0.0164934 </td><td style=\"text-align: right;\">  90.8197</td><td style=\"text-align: right;\">-39.5386</td><td style=\"text-align: right;\">-11.9574</td><td>&#x27;STD&#x27;  </td></tr>\n",
       "<tr><td><i style='opacity: 0.6'>5</i></td><td style=\"text-align: right;\">1.29543e+12</td><td style=\"text-align: right;\">  0.026047</td><td style=\"text-align: right;\">-1.40233</td><td style=\"text-align: right;\">9.60692</td><td style=\"text-align: right;\">-2.07545</td><td style=\"text-align: right;\">-0.0116064</td><td style=\"text-align: right;\"> 0.0284052</td><td style=\"text-align: right;\"> 0.00824668</td><td style=\"text-align: right;\">  90.4137</td><td style=\"text-align: right;\">-40.2856</td><td style=\"text-align: right;\">-11.9591</td><td>&#x27;STD&#x27;  </td></tr>\n",
       "<tr><td><i style='opacity: 0.6'>6</i></td><td style=\"text-align: right;\">1.29544e+12</td><td style=\"text-align: right;\">  0.030004</td><td style=\"text-align: right;\">-1.40157</td><td style=\"text-align: right;\">9.60578</td><td style=\"text-align: right;\">-2.07374</td><td style=\"text-align: right;\">-0.0363465</td><td style=\"text-align: right;\"> 0.0152716</td><td style=\"text-align: right;\"> 0.0131336 </td><td style=\"text-align: right;\">  90.0044</td><td style=\"text-align: right;\">-41.0852</td><td style=\"text-align: right;\">-11.9522</td><td>&#x27;STD&#x27;  </td></tr>\n",
       "<tr><td><i style='opacity: 0.6'>7</i></td><td style=\"text-align: right;\">1.29544e+12</td><td style=\"text-align: right;\">  0.035068</td><td style=\"text-align: right;\">-1.4006 </td><td style=\"text-align: right;\">9.60433</td><td style=\"text-align: right;\">-2.07156</td><td style=\"text-align: right;\">-0.0351248</td><td style=\"text-align: right;\"> 0.0177151</td><td style=\"text-align: right;\"> 0.0143553 </td><td style=\"text-align: right;\">  89.5979</td><td style=\"text-align: right;\">-41.8653</td><td style=\"text-align: right;\">-11.949 </td><td>&#x27;STD&#x27;  </td></tr>\n",
       "<tr><td><i style='opacity: 0.6'>8</i></td><td style=\"text-align: right;\">1.29545e+12</td><td style=\"text-align: right;\">  0.040047</td><td style=\"text-align: right;\">-1.39965</td><td style=\"text-align: right;\">9.6029 </td><td style=\"text-align: right;\">-2.06942</td><td style=\"text-align: right;\">-0.0320704</td><td style=\"text-align: right;\"> 0.0152716</td><td style=\"text-align: right;\"> 0.00977384</td><td style=\"text-align: right;\">  89.2001</td><td style=\"text-align: right;\">-42.6301</td><td style=\"text-align: right;\">-11.9383</td><td>&#x27;STD&#x27;  </td></tr>\n",
       "<tr><td><i style='opacity: 0.6'>9</i></td><td style=\"text-align: right;\">1.29545e+12</td><td style=\"text-align: right;\">  0.044999</td><td style=\"text-align: right;\">-1.3987 </td><td style=\"text-align: right;\">9.60148</td><td style=\"text-align: right;\">-2.06729</td><td style=\"text-align: right;\">-0.0244346</td><td style=\"text-align: right;\"> 0.0140499</td><td style=\"text-align: right;\"> 0.00855211</td><td style=\"text-align: right;\">  88.8056</td><td style=\"text-align: right;\">-43.3878</td><td style=\"text-align: right;\">-11.924 </td><td>&#x27;STD&#x27;  </td></tr>\n",
       "</tbody>\n",
       "</table>"
      ],
      "text/plain": [
       "  #    timestamp    rel_time     acc_x    acc_y     acc_z      gyro_x      gyro_y       gyro_z    azimuth     pitch      roll  label\n",
       "  0  1.29541e+12    0         -1.40731  9.6144   -2.08667  -0.844216    0.40928     0.0864374     92.7469  -36.8797  -11.7411  'STD'\n",
       "  1  1.29541e+12    0.005001  -1.40635  9.61296  -2.08451  -0.711047    0.346971    0.0763582     92.2054  -37.4702  -11.8398  'STD'\n",
       "  2  1.29542e+12    0.010091  -1.40538  9.6115   -2.08232  -0.598953    0.0934624   0.0250455     91.743   -38.0908  -11.8809  'STD'\n",
       "  3  1.29542e+12    0.015046  -1.40443  9.61008  -2.08019  -0.128893   -0.0128282  -0.00244346    91.2673  -38.8429  -11.9337  'STD'\n",
       "  4  1.29543e+12    0.019996  -1.40348  9.60865  -2.07805   0.0494801   0.018326    0.0164934     90.8197  -39.5386  -11.9574  'STD'\n",
       "  5  1.29543e+12    0.026047  -1.40233  9.60692  -2.07545  -0.0116064   0.0284052   0.00824668    90.4137  -40.2856  -11.9591  'STD'\n",
       "  6  1.29544e+12    0.030004  -1.40157  9.60578  -2.07374  -0.0363465   0.0152716   0.0131336     90.0044  -41.0852  -11.9522  'STD'\n",
       "  7  1.29544e+12    0.035068  -1.4006   9.60433  -2.07156  -0.0351248   0.0177151   0.0143553     89.5979  -41.8653  -11.949   'STD'\n",
       "  8  1.29545e+12    0.040047  -1.39965  9.6029   -2.06942  -0.0320704   0.0152716   0.00977384    89.2001  -42.6301  -11.9383  'STD'\n",
       "  9  1.29545e+12    0.044999  -1.3987   9.60148  -2.06729  -0.0244346   0.0140499   0.00855211    88.8056  -43.3878  -11.924   'STD'"
      ]
     },
     "execution_count": 3,
     "metadata": {},
     "output_type": "execute_result"
    }
   ],
   "source": [
    "vaex_df.head()"
   ]
  },
  {
   "cell_type": "code",
   "execution_count": 4,
   "metadata": {},
   "outputs": [
    {
     "data": {
      "text/html": [
       "<table>\n",
       "<thead>\n",
       "<tr><th>#                            </th><th style=\"text-align: right;\">  timestamp</th><th style=\"text-align: right;\">  rel_time</th><th style=\"text-align: right;\">     acc_x</th><th style=\"text-align: right;\">  acc_y</th><th style=\"text-align: right;\">    acc_z</th><th style=\"text-align: right;\">  gyro_x</th><th style=\"text-align: right;\">  gyro_y</th><th style=\"text-align: right;\">  gyro_z</th><th style=\"text-align: right;\">  azimuth</th><th style=\"text-align: right;\">   pitch</th><th style=\"text-align: right;\">    roll</th><th>label  </th></tr>\n",
       "</thead>\n",
       "<tbody>\n",
       "<tr><td><i style='opacity: 0.6'>0</i></td><td style=\"text-align: right;\">1.03546e+13</td><td style=\"text-align: right;\">   299.945</td><td style=\"text-align: right;\">-0.859004 </td><td style=\"text-align: right;\">16.8845</td><td style=\"text-align: right;\">13.1384  </td><td style=\"text-align: right;\">1.06046 </td><td style=\"text-align: right;\">-1.2257 </td><td style=\"text-align: right;\">0.277638</td><td style=\"text-align: right;\">  209.326</td><td style=\"text-align: right;\">-51.9974</td><td style=\"text-align: right;\">-37.9543</td><td>&#x27;WAL&#x27;  </td></tr>\n",
       "<tr><td><i style='opacity: 0.6'>1</i></td><td style=\"text-align: right;\">1.03546e+13</td><td style=\"text-align: right;\">   299.95 </td><td style=\"text-align: right;\"> 1.01416  </td><td style=\"text-align: right;\">17.7376</td><td style=\"text-align: right;\">14.9213  </td><td style=\"text-align: right;\">1.59619 </td><td style=\"text-align: right;\">-3.84234</td><td style=\"text-align: right;\">0.820087</td><td style=\"text-align: right;\">  210.242</td><td style=\"text-align: right;\">-52.4692</td><td style=\"text-align: right;\">-37.4397</td><td>&#x27;WAL&#x27;  </td></tr>\n",
       "<tr><td><i style='opacity: 0.6'>2</i></td><td style=\"text-align: right;\">1.03546e+13</td><td style=\"text-align: right;\">   299.955</td><td style=\"text-align: right;\"> 0.915186 </td><td style=\"text-align: right;\">17.7505</td><td style=\"text-align: right;\">12.4124  </td><td style=\"text-align: right;\">1.76021 </td><td style=\"text-align: right;\">-5.68074</td><td style=\"text-align: right;\">1.37628 </td><td style=\"text-align: right;\">  211.684</td><td style=\"text-align: right;\">-53.0702</td><td style=\"text-align: right;\">-36.7649</td><td>&#x27;WAL&#x27;  </td></tr>\n",
       "<tr><td><i style='opacity: 0.6'>3</i></td><td style=\"text-align: right;\">1.03546e+13</td><td style=\"text-align: right;\">   299.96 </td><td style=\"text-align: right;\"> 0.771094 </td><td style=\"text-align: right;\">17.6826</td><td style=\"text-align: right;\"> 9.50287 </td><td style=\"text-align: right;\">1.6362  </td><td style=\"text-align: right;\">-6.41928</td><td style=\"text-align: right;\">1.81396 </td><td style=\"text-align: right;\">  213.77 </td><td style=\"text-align: right;\">-53.9818</td><td style=\"text-align: right;\">-35.7093</td><td>&#x27;WAL&#x27;  </td></tr>\n",
       "<tr><td><i style='opacity: 0.6'>4</i></td><td style=\"text-align: right;\">1.03546e+13</td><td style=\"text-align: right;\">   299.965</td><td style=\"text-align: right;\">-0.0319345</td><td style=\"text-align: right;\">15.6984</td><td style=\"text-align: right;\"> 7.03142 </td><td style=\"text-align: right;\">1.41843 </td><td style=\"text-align: right;\">-6.41806</td><td style=\"text-align: right;\">2.00517 </td><td style=\"text-align: right;\">  216.144</td><td style=\"text-align: right;\">-54.9567</td><td style=\"text-align: right;\">-34.5189</td><td>&#x27;WAL&#x27;  </td></tr>\n",
       "<tr><td><i style='opacity: 0.6'>5</i></td><td style=\"text-align: right;\">1.03546e+13</td><td style=\"text-align: right;\">   299.97 </td><td style=\"text-align: right;\">-0.907934 </td><td style=\"text-align: right;\">13.5339</td><td style=\"text-align: right;\"> 4.33538 </td><td style=\"text-align: right;\">1.20707 </td><td style=\"text-align: right;\">-6.21586</td><td style=\"text-align: right;\">1.9621  </td><td style=\"text-align: right;\">  218.442</td><td style=\"text-align: right;\">-56.027 </td><td style=\"text-align: right;\">-33.2238</td><td>&#x27;WAL&#x27;  </td></tr>\n",
       "<tr><td><i style='opacity: 0.6'>6</i></td><td style=\"text-align: right;\">1.03546e+13</td><td style=\"text-align: right;\">   299.975</td><td style=\"text-align: right;\">-1.86702  </td><td style=\"text-align: right;\">12.3315</td><td style=\"text-align: right;\"> 2.43928 </td><td style=\"text-align: right;\">0.968221</td><td style=\"text-align: right;\">-6.10315</td><td style=\"text-align: right;\">1.77395 </td><td style=\"text-align: right;\">  220.689</td><td style=\"text-align: right;\">-57.0773</td><td style=\"text-align: right;\">-31.8977</td><td>&#x27;WAL&#x27;  </td></tr>\n",
       "<tr><td><i style='opacity: 0.6'>7</i></td><td style=\"text-align: right;\">1.03546e+13</td><td style=\"text-align: right;\">   299.98 </td><td style=\"text-align: right;\">-2.92441  </td><td style=\"text-align: right;\">11.4856</td><td style=\"text-align: right;\"> 0.782717</td><td style=\"text-align: right;\">0.740674</td><td style=\"text-align: right;\">-6.03474</td><td style=\"text-align: right;\">1.45966 </td><td style=\"text-align: right;\">  222.816</td><td style=\"text-align: right;\">-58.0446</td><td style=\"text-align: right;\">-30.6146</td><td>&#x27;WAL&#x27;  </td></tr>\n",
       "<tr><td><i style='opacity: 0.6'>8</i></td><td style=\"text-align: right;\">1.03546e+13</td><td style=\"text-align: right;\">   299.985</td><td style=\"text-align: right;\">-3.72692  </td><td style=\"text-align: right;\">11.0844</td><td style=\"text-align: right;\">-0.258194</td><td style=\"text-align: right;\">0.536645</td><td style=\"text-align: right;\">-5.90584</td><td style=\"text-align: right;\">1.02778 </td><td style=\"text-align: right;\">  224.672</td><td style=\"text-align: right;\">-58.7771</td><td style=\"text-align: right;\">-29.6248</td><td>&#x27;WAL&#x27;  </td></tr>\n",
       "<tr><td><i style='opacity: 0.6'>9</i></td><td style=\"text-align: right;\">1.03546e+13</td><td style=\"text-align: right;\">   299.99 </td><td style=\"text-align: right;\">-4.5317   </td><td style=\"text-align: right;\">10.7947</td><td style=\"text-align: right;\">-1.20094 </td><td style=\"text-align: right;\">0.355524</td><td style=\"text-align: right;\">-5.69937</td><td style=\"text-align: right;\">0.55039 </td><td style=\"text-align: right;\">  226.457</td><td style=\"text-align: right;\">-59.3911</td><td style=\"text-align: right;\">-28.7339</td><td>&#x27;WAL&#x27;  </td></tr>\n",
       "</tbody>\n",
       "</table>"
      ],
      "text/plain": [
       "  #    timestamp    rel_time       acc_x    acc_y      acc_z    gyro_x    gyro_y    gyro_z    azimuth     pitch      roll  label\n",
       "  0  1.03546e+13     299.945  -0.859004   16.8845  13.1384    1.06046   -1.2257   0.277638    209.326  -51.9974  -37.9543  'WAL'\n",
       "  1  1.03546e+13     299.95    1.01416    17.7376  14.9213    1.59619   -3.84234  0.820087    210.242  -52.4692  -37.4397  'WAL'\n",
       "  2  1.03546e+13     299.955   0.915186   17.7505  12.4124    1.76021   -5.68074  1.37628     211.684  -53.0702  -36.7649  'WAL'\n",
       "  3  1.03546e+13     299.96    0.771094   17.6826   9.50287   1.6362    -6.41928  1.81396     213.77   -53.9818  -35.7093  'WAL'\n",
       "  4  1.03546e+13     299.965  -0.0319345  15.6984   7.03142   1.41843   -6.41806  2.00517     216.144  -54.9567  -34.5189  'WAL'\n",
       "  5  1.03546e+13     299.97   -0.907934   13.5339   4.33538   1.20707   -6.21586  1.9621      218.442  -56.027   -33.2238  'WAL'\n",
       "  6  1.03546e+13     299.975  -1.86702    12.3315   2.43928   0.968221  -6.10315  1.77395     220.689  -57.0773  -31.8977  'WAL'\n",
       "  7  1.03546e+13     299.98   -2.92441    11.4856   0.782717  0.740674  -6.03474  1.45966     222.816  -58.0446  -30.6146  'WAL'\n",
       "  8  1.03546e+13     299.985  -3.72692    11.0844  -0.258194  0.536645  -5.90584  1.02778     224.672  -58.7771  -29.6248  'WAL'\n",
       "  9  1.03546e+13     299.99   -4.5317     10.7947  -1.20094   0.355524  -5.69937  0.55039     226.457  -59.3911  -28.7339  'WAL'"
      ]
     },
     "execution_count": 4,
     "metadata": {},
     "output_type": "execute_result"
    }
   ],
   "source": [
    "vaex_df.tail()"
   ]
  },
  {
   "cell_type": "code",
   "execution_count": 5,
   "metadata": {},
   "outputs": [
    {
     "name": "stdout",
     "output_type": "stream",
     "text": [
      "2.0.0\n"
     ]
    }
   ],
   "source": [
    "import numpy as np\n",
    "import matplotlib.pyplot as plt\n",
    "from sklearn.model_selection import train_test_split\n",
    "from sklearn.preprocessing import StandardScaler, LabelEncoder\n",
    "import tensorflow as tf\n",
    "from tensorflow.keras import Sequential\n",
    "from tensorflow.keras.layers import Flatten, Dense, Dropout, BatchNormalization\n",
    "from tensorflow.keras.layers import Conv2D, MaxPool2D\n",
    "from tensorflow.keras.optimizers import Adam\n",
    "print(tf.__version__)"
   ]
  },
  {
   "cell_type": "code",
   "execution_count": 6,
   "metadata": {},
   "outputs": [
    {
     "data": {
      "text/plain": [
       "Index(['STD', 'WAL', 'JUM', 'JOG', 'LYI', 'SIT', 'STU', 'STN', 'CSO', 'CSI',\n",
       "       'SCH', 'BSC', 'SDL', 'FKL', 'FOL', 'CHU'],\n",
       "      dtype='object')"
      ]
     },
     "execution_count": 6,
     "metadata": {},
     "output_type": "execute_result"
    }
   ],
   "source": [
    "activities = vaex_df['label'].value_counts().index\n",
    "activities"
   ]
  },
  {
   "cell_type": "code",
   "execution_count": 7,
   "metadata": {},
   "outputs": [
    {
     "data": {
      "text/html": [
       "<style>.vaex-description pre {\n",
       "          max-width : 450px;\n",
       "          white-space : nowrap;\n",
       "          overflow : hidden;\n",
       "          text-overflow: ellipsis;\n",
       "        }\n",
       "\n",
       "        .vex-description pre:hover {\n",
       "          max-width : initial;\n",
       "          white-space: pre;\n",
       "        }</style>"
      ],
      "text/plain": [
       "<IPython.core.display.HTML object>"
      ]
     },
     "metadata": {},
     "output_type": "display_data"
    },
    {
     "data": {
      "text/html": [
       "<div><h2>KeysView(<vaex.hdf5.dataset.Hdf5MemoryMapped object at 0x000001F6A80F8EB8>)</h2> <b>rows</b>: 13,920,625</div><h2>Columns:</h2><table class='table-striped'><thead><tr><th>column</th><th>type</th><th>unit</th><th>description</th><th>expression</th></tr></thead><tr><td>timestamp</td><td>int64</td><td></td><td ><pre></pre></td><td></td></tr><tr><td>rel_time</td><td>float64</td><td></td><td ><pre></pre></td><td></td></tr><tr><td>acc_x</td><td>float64</td><td></td><td ><pre></pre></td><td></td></tr><tr><td>acc_y</td><td>float64</td><td></td><td ><pre></pre></td><td></td></tr><tr><td>acc_z</td><td>float64</td><td></td><td ><pre></pre></td><td></td></tr><tr><td>gyro_x</td><td>float64</td><td></td><td ><pre></pre></td><td></td></tr><tr><td>gyro_y</td><td>float64</td><td></td><td ><pre></pre></td><td></td></tr><tr><td>gyro_z</td><td>float64</td><td></td><td ><pre></pre></td><td></td></tr><tr><td>azimuth</td><td>float64</td><td></td><td ><pre></pre></td><td></td></tr><tr><td>pitch</td><td>float64</td><td></td><td ><pre></pre></td><td></td></tr><tr><td>roll</td><td>float64</td><td></td><td ><pre></pre></td><td></td></tr><tr><td>label</td><td>str</td><td></td><td ><pre></pre></td><td></td></tr></table><h2>Data:</h2><table>\n",
       "<thead>\n",
       "<tr><th>#                                     </th><th>timestamp     </th><th>rel_time            </th><th>acc_x              </th><th>acc_y             </th><th>acc_z               </th><th>gyro_x     </th><th>gyro_y             </th><th>gyro_z             </th><th>azimuth  </th><th>pitch             </th><th>roll               </th><th>label  </th></tr>\n",
       "</thead>\n",
       "<tbody>\n",
       "<tr><td><i style='opacity: 0.6'>0</i>         </td><td>1295405261000 </td><td>0.0                 </td><td>-1.4073114148168502</td><td>9.614395367848019 </td><td>-2.08666605302268   </td><td>-0.84421575</td><td>0.4092797          </td><td>0.08643743400000001</td><td>92.746895</td><td>-36.87968400000001</td><td>-11.741077         </td><td>&#x27;STD&#x27;  </td></tr>\n",
       "<tr><td><i style='opacity: 0.6'>1</i>         </td><td>1295410262000 </td><td>0.005000999999999999</td><td>-1.40635420147249  </td><td>9.61295953908573  </td><td>-2.08451231237802   </td><td>-0.7110472 </td><td>0.34697145         </td><td>0.076358154        </td><td>92.20536 </td><td>-37.470173        </td><td>-11.839779         </td><td>&#x27;STD&#x27;  </td></tr>\n",
       "<tr><td><i style='opacity: 0.6'>2</i>         </td><td>1295415352000 </td><td>0.010091            </td><td>-1.4053799531376   </td><td>9.61149815768199  </td><td>-2.08232024281567   </td><td>-0.59895337</td><td>0.093462385        </td><td>0.025045475        </td><td>91.74305 </td><td>-38.09079000000001</td><td>-11.880902         </td><td>&#x27;STD&#x27;  </td></tr>\n",
       "<tr><td><i style='opacity: 0.6'>3</i>         </td><td>1295420307000 </td><td>0.015046            </td><td>-1.40443154439509  </td><td>9.61007553590291  </td><td>-2.08018631262285   </td><td>-0.12889257</td><td>-0.01282817        </td><td>-0.002443461       </td><td>91.26732 </td><td>-38.84291500000001</td><td>-11.933741         </td><td>&#x27;STD&#x27;  </td></tr>\n",
       "<tr><td><i style='opacity: 0.6'>4</i>         </td><td>1295425257000 </td><td>0.019996            </td><td>-1.40348409267452  </td><td>9.60865434966548  </td><td>-2.07805453574002   </td><td>0.049480084</td><td>0.018325957        </td><td>0.016493361        </td><td>90.81968 </td><td>-39.538643        </td><td>-11.957446         </td><td>&#x27;STD&#x27;  </td></tr>\n",
       "<tr><td>...                                   </td><td>...           </td><td>...                 </td><td>...                </td><td>...               </td><td>...                 </td><td>...        </td><td>...                </td><td>...                </td><td>...      </td><td>...               </td><td>...                </td><td>...    </td></tr>\n",
       "<tr><td><i style='opacity: 0.6'>13,920,620</i></td><td>10354577784000</td><td>299.9699950000001   </td><td>-0.907933638023778 </td><td>13.5338886406869  </td><td>4.33538025298107    </td><td>1.2070698  </td><td>-6.2158594         </td><td>1.9620992          </td><td>218.44235</td><td>-56.026966        </td><td>-33.223778         </td><td>&#x27;WAL&#x27;  </td></tr>\n",
       "<tr><td><i style='opacity: 0.6'>13,920,621</i></td><td>10354582775000</td><td>299.974986          </td><td>-1.86702388885794  </td><td>12.3314594695583  </td><td>2.43928464265022    </td><td>0.9682214  </td><td>-6.1031547         </td><td>1.7739526999999995 </td><td>220.68869</td><td>-57.0773          </td><td>-31.897688         </td><td>&#x27;WAL&#x27;  </td></tr>\n",
       "<tr><td><i style='opacity: 0.6'>13,920,622</i></td><td>10354588060000</td><td>299.980271          </td><td>-2.92440738259053  </td><td>11.4855529479706  </td><td>0.7827171971766809  </td><td>0.74067414 </td><td>-6.0347376         </td><td>1.4596626          </td><td>222.8164 </td><td>-58.044624        </td><td>-30.614605         </td><td>&#x27;WAL&#x27;  </td></tr>\n",
       "<tr><td><i style='opacity: 0.6'>13,920,623</i></td><td>10354592749000</td><td>299.98496           </td><td>-3.7269226818025296</td><td>11.0844067319173  </td><td>-0.25819445058553403</td><td>0.5366451  </td><td>-5.9058449999999985</td><td>1.0277808000000002 </td><td>224.67165</td><td>-58.777103        </td><td>-29.624798         </td><td>&#x27;WAL&#x27;  </td></tr>\n",
       "<tr><td><i style='opacity: 0.6'>13,920,624</i></td><td>10354597768000</td><td>299.989979          </td><td>-4.53170151656142  </td><td>10.794686253444299</td><td>-1.20093540560276   </td><td>0.3555236  </td><td>-5.6993730000000005</td><td>0.5503895999999999 </td><td>226.45715</td><td>-59.391144        </td><td>-28.733915000000003</td><td>&#x27;WAL&#x27;  </td></tr>\n",
       "</tbody>\n",
       "</table>"
      ],
      "text/plain": [
       "<IPython.core.display.HTML object>"
      ]
     },
     "metadata": {},
     "output_type": "display_data"
    }
   ],
   "source": [
    "vaex_df.info()"
   ]
  },
  {
   "cell_type": "code",
   "execution_count": 10,
   "metadata": {},
   "outputs": [
    {
     "data": {
      "text/html": [
       "<table>\n",
       "<thead>\n",
       "<tr><th>#                            </th><th style=\"text-align: right;\">   acc_x</th><th style=\"text-align: right;\">  acc_y</th><th style=\"text-align: right;\">   acc_z</th><th style=\"text-align: right;\">    gyro_x</th><th style=\"text-align: right;\">    gyro_y</th><th style=\"text-align: right;\">     gyro_z</th><th style=\"text-align: right;\">  azimuth</th><th style=\"text-align: right;\">   pitch</th><th style=\"text-align: right;\">    roll</th><th>label  </th></tr>\n",
       "</thead>\n",
       "<tbody>\n",
       "<tr><td><i style='opacity: 0.6'>0</i></td><td style=\"text-align: right;\">-1.40731</td><td style=\"text-align: right;\">9.6144 </td><td style=\"text-align: right;\">-2.08667</td><td style=\"text-align: right;\">-0.844216 </td><td style=\"text-align: right;\"> 0.40928  </td><td style=\"text-align: right;\"> 0.0864374 </td><td style=\"text-align: right;\">  92.7469</td><td style=\"text-align: right;\">-36.8797</td><td style=\"text-align: right;\">-11.7411</td><td>&#x27;STD&#x27;  </td></tr>\n",
       "<tr><td><i style='opacity: 0.6'>1</i></td><td style=\"text-align: right;\">-1.40635</td><td style=\"text-align: right;\">9.61296</td><td style=\"text-align: right;\">-2.08451</td><td style=\"text-align: right;\">-0.711047 </td><td style=\"text-align: right;\"> 0.346971 </td><td style=\"text-align: right;\"> 0.0763582 </td><td style=\"text-align: right;\">  92.2054</td><td style=\"text-align: right;\">-37.4702</td><td style=\"text-align: right;\">-11.8398</td><td>&#x27;STD&#x27;  </td></tr>\n",
       "<tr><td><i style='opacity: 0.6'>2</i></td><td style=\"text-align: right;\">-1.40538</td><td style=\"text-align: right;\">9.6115 </td><td style=\"text-align: right;\">-2.08232</td><td style=\"text-align: right;\">-0.598953 </td><td style=\"text-align: right;\"> 0.0934624</td><td style=\"text-align: right;\"> 0.0250455 </td><td style=\"text-align: right;\">  91.743 </td><td style=\"text-align: right;\">-38.0908</td><td style=\"text-align: right;\">-11.8809</td><td>&#x27;STD&#x27;  </td></tr>\n",
       "<tr><td><i style='opacity: 0.6'>3</i></td><td style=\"text-align: right;\">-1.40443</td><td style=\"text-align: right;\">9.61008</td><td style=\"text-align: right;\">-2.08019</td><td style=\"text-align: right;\">-0.128893 </td><td style=\"text-align: right;\">-0.0128282</td><td style=\"text-align: right;\">-0.00244346</td><td style=\"text-align: right;\">  91.2673</td><td style=\"text-align: right;\">-38.8429</td><td style=\"text-align: right;\">-11.9337</td><td>&#x27;STD&#x27;  </td></tr>\n",
       "<tr><td><i style='opacity: 0.6'>4</i></td><td style=\"text-align: right;\">-1.40348</td><td style=\"text-align: right;\">9.60865</td><td style=\"text-align: right;\">-2.07805</td><td style=\"text-align: right;\"> 0.0494801</td><td style=\"text-align: right;\"> 0.018326 </td><td style=\"text-align: right;\"> 0.0164934 </td><td style=\"text-align: right;\">  90.8197</td><td style=\"text-align: right;\">-39.5386</td><td style=\"text-align: right;\">-11.9574</td><td>&#x27;STD&#x27;  </td></tr>\n",
       "<tr><td><i style='opacity: 0.6'>5</i></td><td style=\"text-align: right;\">-1.40233</td><td style=\"text-align: right;\">9.60692</td><td style=\"text-align: right;\">-2.07545</td><td style=\"text-align: right;\">-0.0116064</td><td style=\"text-align: right;\"> 0.0284052</td><td style=\"text-align: right;\"> 0.00824668</td><td style=\"text-align: right;\">  90.4137</td><td style=\"text-align: right;\">-40.2856</td><td style=\"text-align: right;\">-11.9591</td><td>&#x27;STD&#x27;  </td></tr>\n",
       "<tr><td><i style='opacity: 0.6'>6</i></td><td style=\"text-align: right;\">-1.40157</td><td style=\"text-align: right;\">9.60578</td><td style=\"text-align: right;\">-2.07374</td><td style=\"text-align: right;\">-0.0363465</td><td style=\"text-align: right;\"> 0.0152716</td><td style=\"text-align: right;\"> 0.0131336 </td><td style=\"text-align: right;\">  90.0044</td><td style=\"text-align: right;\">-41.0852</td><td style=\"text-align: right;\">-11.9522</td><td>&#x27;STD&#x27;  </td></tr>\n",
       "<tr><td><i style='opacity: 0.6'>7</i></td><td style=\"text-align: right;\">-1.4006 </td><td style=\"text-align: right;\">9.60433</td><td style=\"text-align: right;\">-2.07156</td><td style=\"text-align: right;\">-0.0351248</td><td style=\"text-align: right;\"> 0.0177151</td><td style=\"text-align: right;\"> 0.0143553 </td><td style=\"text-align: right;\">  89.5979</td><td style=\"text-align: right;\">-41.8653</td><td style=\"text-align: right;\">-11.949 </td><td>&#x27;STD&#x27;  </td></tr>\n",
       "<tr><td><i style='opacity: 0.6'>8</i></td><td style=\"text-align: right;\">-1.39965</td><td style=\"text-align: right;\">9.6029 </td><td style=\"text-align: right;\">-2.06942</td><td style=\"text-align: right;\">-0.0320704</td><td style=\"text-align: right;\"> 0.0152716</td><td style=\"text-align: right;\"> 0.00977384</td><td style=\"text-align: right;\">  89.2001</td><td style=\"text-align: right;\">-42.6301</td><td style=\"text-align: right;\">-11.9383</td><td>&#x27;STD&#x27;  </td></tr>\n",
       "<tr><td><i style='opacity: 0.6'>9</i></td><td style=\"text-align: right;\">-1.3987 </td><td style=\"text-align: right;\">9.60148</td><td style=\"text-align: right;\">-2.06729</td><td style=\"text-align: right;\">-0.0244346</td><td style=\"text-align: right;\"> 0.0140499</td><td style=\"text-align: right;\"> 0.00855211</td><td style=\"text-align: right;\">  88.8056</td><td style=\"text-align: right;\">-43.3878</td><td style=\"text-align: right;\">-11.924 </td><td>&#x27;STD&#x27;  </td></tr>\n",
       "</tbody>\n",
       "</table>"
      ],
      "text/plain": [
       "  #     acc_x    acc_y     acc_z      gyro_x      gyro_y       gyro_z    azimuth     pitch      roll  label\n",
       "  0  -1.40731  9.6144   -2.08667  -0.844216    0.40928     0.0864374     92.7469  -36.8797  -11.7411  'STD'\n",
       "  1  -1.40635  9.61296  -2.08451  -0.711047    0.346971    0.0763582     92.2054  -37.4702  -11.8398  'STD'\n",
       "  2  -1.40538  9.6115   -2.08232  -0.598953    0.0934624   0.0250455     91.743   -38.0908  -11.8809  'STD'\n",
       "  3  -1.40443  9.61008  -2.08019  -0.128893   -0.0128282  -0.00244346    91.2673  -38.8429  -11.9337  'STD'\n",
       "  4  -1.40348  9.60865  -2.07805   0.0494801   0.018326    0.0164934     90.8197  -39.5386  -11.9574  'STD'\n",
       "  5  -1.40233  9.60692  -2.07545  -0.0116064   0.0284052   0.00824668    90.4137  -40.2856  -11.9591  'STD'\n",
       "  6  -1.40157  9.60578  -2.07374  -0.0363465   0.0152716   0.0131336     90.0044  -41.0852  -11.9522  'STD'\n",
       "  7  -1.4006   9.60433  -2.07156  -0.0351248   0.0177151   0.0143553     89.5979  -41.8653  -11.949   'STD'\n",
       "  8  -1.39965  9.6029   -2.06942  -0.0320704   0.0152716   0.00977384    89.2001  -42.6301  -11.9383  'STD'\n",
       "  9  -1.3987   9.60148  -2.06729  -0.0244346   0.0140499   0.00855211    88.8056  -43.3878  -11.924   'STD'"
      ]
     },
     "execution_count": 10,
     "metadata": {},
     "output_type": "execute_result"
    }
   ],
   "source": [
    "df = vaex_df.drop(['timestamp', 'rel_time']).copy()\n",
    "df.head()"
   ]
  },
  {
   "cell_type": "code",
   "execution_count": 11,
   "metadata": {},
   "outputs": [
    {
     "data": {
      "text/plain": [
       "STD    4391364\n",
       "WAL    3641671\n",
       "JUM    1068010\n",
       "JOG    1062275\n",
       "LYI    1007136\n",
       "SIT     644289\n",
       "STU     555191\n",
       "STN     509131\n",
       "CSO     252216\n",
       "CSI     235850\n",
       "SCH     144828\n",
       "BSC     108918\n",
       "SDL      93992\n",
       "FKL      88614\n",
       "FOL      78960\n",
       "CHU      38180\n",
       "dtype: int64"
      ]
     },
     "execution_count": 11,
     "metadata": {},
     "output_type": "execute_result"
    }
   ],
   "source": [
    "df['label'].value_counts()"
   ]
  },
  {
   "cell_type": "code",
   "execution_count": 12,
   "metadata": {},
   "outputs": [
    {
     "data": {
      "text/html": [
       "<table>\n",
       "<thead>\n",
       "<tr><th>#                                  </th><th>acc_x              </th><th>acc_y            </th><th>acc_z              </th><th>gyro_x     </th><th>gyro_y     </th><th>gyro_z             </th><th>azimuth  </th><th>pitch             </th><th>roll      </th><th>label  </th></tr>\n",
       "</thead>\n",
       "<tbody>\n",
       "<tr><td><i style='opacity: 0.6'>0</i>      </td><td>-1.4073114148168502</td><td>9.614395367848019</td><td>-2.08666605302268  </td><td>-0.84421575</td><td>0.4092797  </td><td>0.08643743400000001</td><td>92.746895</td><td>-36.87968400000001</td><td>-11.741077</td><td>&#x27;STD&#x27;  </td></tr>\n",
       "<tr><td><i style='opacity: 0.6'>1</i>      </td><td>-1.40635420147249  </td><td>9.61295953908573 </td><td>-2.08451231237802  </td><td>-0.7110472 </td><td>0.34697145 </td><td>0.076358154        </td><td>92.20536 </td><td>-37.470173        </td><td>-11.839779</td><td>&#x27;STD&#x27;  </td></tr>\n",
       "<tr><td><i style='opacity: 0.6'>2</i>      </td><td>-1.4053799531376   </td><td>9.61149815768199 </td><td>-2.08232024281567  </td><td>-0.59895337</td><td>0.093462385</td><td>0.025045475        </td><td>91.74305 </td><td>-38.09079000000001</td><td>-11.880902</td><td>&#x27;STD&#x27;  </td></tr>\n",
       "<tr><td><i style='opacity: 0.6'>3</i>      </td><td>-1.40443154439509  </td><td>9.61007553590291 </td><td>-2.08018631262285  </td><td>-0.12889257</td><td>-0.01282817</td><td>-0.002443461       </td><td>91.26732 </td><td>-38.84291500000001</td><td>-11.933741</td><td>&#x27;STD&#x27;  </td></tr>\n",
       "<tr><td><i style='opacity: 0.6'>4</i>      </td><td>-1.40348409267452  </td><td>9.60865434966548 </td><td>-2.07805453574002  </td><td>0.049480084</td><td>0.018325957</td><td>0.016493361        </td><td>90.81968 </td><td>-39.538643        </td><td>-11.957446</td><td>&#x27;STD&#x27;  </td></tr>\n",
       "<tr><td>...                                </td><td>...                </td><td>...              </td><td>...                </td><td>...        </td><td>...        </td><td>...                </td><td>...      </td><td>...               </td><td>...       </td><td>...    </td></tr>\n",
       "<tr><td><i style='opacity: 0.6'>610,875</i></td><td>2.37923898954831   </td><td>9.022148288477787</td><td>-3.2370244353554303</td><td>0.15485434 </td><td>0.5354234  </td><td>-0.17104226        </td><td>291.01935</td><td>-112.19588        </td><td>14.326972 </td><td>&#x27;CHU&#x27;  </td></tr>\n",
       "<tr><td><i style='opacity: 0.6'>610,876</i></td><td>2.2997248          </td><td>9.03393055282082 </td><td>-3.35416370626962  </td><td>0.14263703 </td><td>0.56688297 </td><td>-0.16768251        </td><td>290.89734</td><td>-112.22751        </td><td>14.34225  </td><td>&#x27;CHU&#x27;  </td></tr>\n",
       "<tr><td><i style='opacity: 0.6'>610,877</i></td><td>2.2026472000000004 </td><td>9.02422310705966 </td><td>-3.47065680599615  </td><td>0.10903945 </td><td>0.61300325 </td><td>-0.16065755        </td><td>290.76654</td><td>-112.25064        </td><td>14.364044 </td><td>&#x27;CHU&#x27;  </td></tr>\n",
       "<tr><td><i style='opacity: 0.6'>610,878</i></td><td>2.19080968540254   </td><td>9.13947375022117 </td><td>-3.46123757319375  </td><td>0.077579886</td><td>0.64721173 </td><td>-0.14446963        </td><td>290.64206</td><td>-112.287025       </td><td>14.382452 </td><td>&#x27;CHU&#x27;  </td></tr>\n",
       "<tr><td><i style='opacity: 0.6'>610,879</i></td><td>2.21415154680035   </td><td>9.30286726747272 </td><td>-3.4005487823061   </td><td>0.027488936</td><td>0.6563747  </td><td>-0.118507855       </td><td>290.51526</td><td>-112.313446       </td><td>14.4071455</td><td>&#x27;CHU&#x27;  </td></tr>\n",
       "</tbody>\n",
       "</table>"
      ],
      "text/plain": [
       "#        acc_x                acc_y              acc_z                gyro_x       gyro_y       gyro_z               azimuth    pitch               roll        label\n",
       "0        -1.4073114148168502  9.614395367848019  -2.08666605302268    -0.84421575  0.4092797    0.08643743400000001  92.746895  -36.87968400000001  -11.741077  'STD'\n",
       "1        -1.40635420147249    9.61295953908573   -2.08451231237802    -0.7110472   0.34697145   0.076358154          92.20536   -37.470173          -11.839779  'STD'\n",
       "2        -1.4053799531376     9.61149815768199   -2.08232024281567    -0.59895337  0.093462385  0.025045475          91.74305   -38.09079000000001  -11.880902  'STD'\n",
       "3        -1.40443154439509    9.61007553590291   -2.08018631262285    -0.12889257  -0.01282817  -0.002443461         91.26732   -38.84291500000001  -11.933741  'STD'\n",
       "4        -1.40348409267452    9.60865434966548   -2.07805453574002    0.049480084  0.018325957  0.016493361          90.81968   -39.538643          -11.957446  'STD'\n",
       "...      ...                  ...                ...                  ...          ...          ...                  ...        ...                 ...         ...\n",
       "610,875  2.37923898954831     9.022148288477787  -3.2370244353554303  0.15485434   0.5354234    -0.17104226          291.01935  -112.19588          14.326972   'CHU'\n",
       "610,876  2.2997248            9.03393055282082   -3.35416370626962    0.14263703   0.56688297   -0.16768251          290.89734  -112.22751          14.34225    'CHU'\n",
       "610,877  2.2026472000000004   9.02422310705966   -3.47065680599615    0.10903945   0.61300325   -0.16065755          290.76654  -112.25064          14.364044   'CHU'\n",
       "610,878  2.19080968540254     9.13947375022117   -3.46123757319375    0.077579886  0.64721173   -0.14446963          290.64206  -112.287025         14.382452   'CHU'\n",
       "610,879  2.21415154680035     9.30286726747272   -3.4005487823061     0.027488936  0.6563747    -0.118507855         290.51526  -112.313446         14.4071455  'CHU'"
      ]
     },
     "execution_count": 12,
     "metadata": {},
     "output_type": "execute_result"
    }
   ],
   "source": [
    "STD = df[df['label']=='STD'].head(38180).copy()\n",
    "WAL = df[df['label']=='WAL'].head(38180).copy()\n",
    "JUM = df[df['label']=='JUM'].head(38180).copy()\n",
    "JOG = df[df['label']=='JOG'].head(38180).copy()\n",
    "LYI = df[df['label']=='LYI'].head(38180).copy()\n",
    "SIT = df[df['label']=='SIT'].head(38180).copy()\n",
    "STU = df[df['label']=='STU'].head(38180).copy()\n",
    "STN = df[df['label']=='STN'].head(38180).copy()\n",
    "CSO = df[df['label']=='CSO'].head(38180).copy()\n",
    "CSI = df[df['label']=='CSI'].head(38180).copy()\n",
    "SCH = df[df['label']=='SCH'].head(38180).copy()\n",
    "BSC = df[df['label']=='BSC'].head(38180).copy()\n",
    "SDL = df[df['label']=='SDL'].head(38180).copy()\n",
    "FKL = df[df['label']=='FKL'].head(38180).copy()\n",
    "FOL = df[df['label']=='FOL'].head(38180).copy()\n",
    "CHU = df[df['label']=='CHU'].copy()\n",
    "\n",
    "\n",
    "balanced_data = STD.concat (WAL)\n",
    "act=[JUM , JOG , LYI, SIT, STU, STN, CSO, CSI, SCH , BSC, SDL, FKL, FOL, CHU]\n",
    "for i in act:\n",
    "    balanced_data=balanced_data.concat(i)\n",
    "balanced_data"
   ]
  },
  {
   "cell_type": "code",
   "execution_count": 13,
   "metadata": {},
   "outputs": [
    {
     "data": {
      "text/plain": [
       "WAL    38180\n",
       "STU    38180\n",
       "STN    38180\n",
       "STD    38180\n",
       "SIT    38180\n",
       "SDL    38180\n",
       "SCH    38180\n",
       "LYI    38180\n",
       "JUM    38180\n",
       "JOG    38180\n",
       "FOL    38180\n",
       "FKL    38180\n",
       "CSO    38180\n",
       "CSI    38180\n",
       "CHU    38180\n",
       "BSC    38180\n",
       "dtype: int64"
      ]
     },
     "execution_count": 13,
     "metadata": {},
     "output_type": "execute_result"
    }
   ],
   "source": [
    "balanced_data['label'].value_counts()"
   ]
  },
  {
   "cell_type": "code",
   "execution_count": 14,
   "metadata": {},
   "outputs": [
    {
     "data": {
      "text/html": [
       "<style>.vaex-description pre {\n",
       "          max-width : 450px;\n",
       "          white-space : nowrap;\n",
       "          overflow : hidden;\n",
       "          text-overflow: ellipsis;\n",
       "        }\n",
       "\n",
       "        .vex-description pre:hover {\n",
       "          max-width : initial;\n",
       "          white-space: pre;\n",
       "        }</style>"
      ],
      "text/plain": [
       "<IPython.core.display.HTML object>"
      ]
     },
     "metadata": {},
     "output_type": "display_data"
    },
    {
     "data": {
      "text/html": [
       "<div><h2>KeysView(<vaex.dataset.DatasetConcatenated object at 0x000001F680BFB978>)</h2> <b>rows</b>: 610,880</div><h2>Columns:</h2><table class='table-striped'><thead><tr><th>column</th><th>type</th><th>unit</th><th>description</th><th>expression</th></tr></thead><tr><td>acc_x</td><td>float64</td><td></td><td ><pre></pre></td><td></td></tr><tr><td>acc_y</td><td>float64</td><td></td><td ><pre></pre></td><td></td></tr><tr><td>acc_z</td><td>float64</td><td></td><td ><pre></pre></td><td></td></tr><tr><td>gyro_x</td><td>float64</td><td></td><td ><pre></pre></td><td></td></tr><tr><td>gyro_y</td><td>float64</td><td></td><td ><pre></pre></td><td></td></tr><tr><td>gyro_z</td><td>float64</td><td></td><td ><pre></pre></td><td></td></tr><tr><td>azimuth</td><td>float64</td><td></td><td ><pre></pre></td><td></td></tr><tr><td>pitch</td><td>float64</td><td></td><td ><pre></pre></td><td></td></tr><tr><td>roll</td><td>float64</td><td></td><td ><pre></pre></td><td></td></tr><tr><td>label</td><td>str</td><td></td><td ><pre></pre></td><td></td></tr></table><h2>Data:</h2><table>\n",
       "<thead>\n",
       "<tr><th>#                                  </th><th>acc_x              </th><th>acc_y            </th><th>acc_z              </th><th>gyro_x     </th><th>gyro_y     </th><th>gyro_z             </th><th>azimuth  </th><th>pitch             </th><th>roll      </th><th>label  </th></tr>\n",
       "</thead>\n",
       "<tbody>\n",
       "<tr><td><i style='opacity: 0.6'>0</i>      </td><td>-1.4073114148168502</td><td>9.614395367848019</td><td>-2.08666605302268  </td><td>-0.84421575</td><td>0.4092797  </td><td>0.08643743400000001</td><td>92.746895</td><td>-36.87968400000001</td><td>-11.741077</td><td>&#x27;STD&#x27;  </td></tr>\n",
       "<tr><td><i style='opacity: 0.6'>1</i>      </td><td>-1.40635420147249  </td><td>9.61295953908573 </td><td>-2.08451231237802  </td><td>-0.7110472 </td><td>0.34697145 </td><td>0.076358154        </td><td>92.20536 </td><td>-37.470173        </td><td>-11.839779</td><td>&#x27;STD&#x27;  </td></tr>\n",
       "<tr><td><i style='opacity: 0.6'>2</i>      </td><td>-1.4053799531376   </td><td>9.61149815768199 </td><td>-2.08232024281567  </td><td>-0.59895337</td><td>0.093462385</td><td>0.025045475        </td><td>91.74305 </td><td>-38.09079000000001</td><td>-11.880902</td><td>&#x27;STD&#x27;  </td></tr>\n",
       "<tr><td><i style='opacity: 0.6'>3</i>      </td><td>-1.40443154439509  </td><td>9.61007553590291 </td><td>-2.08018631262285  </td><td>-0.12889257</td><td>-0.01282817</td><td>-0.002443461       </td><td>91.26732 </td><td>-38.84291500000001</td><td>-11.933741</td><td>&#x27;STD&#x27;  </td></tr>\n",
       "<tr><td><i style='opacity: 0.6'>4</i>      </td><td>-1.40348409267452  </td><td>9.60865434966548 </td><td>-2.07805453574002  </td><td>0.049480084</td><td>0.018325957</td><td>0.016493361        </td><td>90.81968 </td><td>-39.538643        </td><td>-11.957446</td><td>&#x27;STD&#x27;  </td></tr>\n",
       "<tr><td>...                                </td><td>...                </td><td>...              </td><td>...                </td><td>...        </td><td>...        </td><td>...                </td><td>...      </td><td>...               </td><td>...       </td><td>...    </td></tr>\n",
       "<tr><td><i style='opacity: 0.6'>610,875</i></td><td>2.37923898954831   </td><td>9.022148288477787</td><td>-3.2370244353554303</td><td>0.15485434 </td><td>0.5354234  </td><td>-0.17104226        </td><td>291.01935</td><td>-112.19588        </td><td>14.326972 </td><td>&#x27;CHU&#x27;  </td></tr>\n",
       "<tr><td><i style='opacity: 0.6'>610,876</i></td><td>2.2997248          </td><td>9.03393055282082 </td><td>-3.35416370626962  </td><td>0.14263703 </td><td>0.56688297 </td><td>-0.16768251        </td><td>290.89734</td><td>-112.22751        </td><td>14.34225  </td><td>&#x27;CHU&#x27;  </td></tr>\n",
       "<tr><td><i style='opacity: 0.6'>610,877</i></td><td>2.2026472000000004 </td><td>9.02422310705966 </td><td>-3.47065680599615  </td><td>0.10903945 </td><td>0.61300325 </td><td>-0.16065755        </td><td>290.76654</td><td>-112.25064        </td><td>14.364044 </td><td>&#x27;CHU&#x27;  </td></tr>\n",
       "<tr><td><i style='opacity: 0.6'>610,878</i></td><td>2.19080968540254   </td><td>9.13947375022117 </td><td>-3.46123757319375  </td><td>0.077579886</td><td>0.64721173 </td><td>-0.14446963        </td><td>290.64206</td><td>-112.287025       </td><td>14.382452 </td><td>&#x27;CHU&#x27;  </td></tr>\n",
       "<tr><td><i style='opacity: 0.6'>610,879</i></td><td>2.21415154680035   </td><td>9.30286726747272 </td><td>-3.4005487823061   </td><td>0.027488936</td><td>0.6563747  </td><td>-0.118507855       </td><td>290.51526</td><td>-112.313446       </td><td>14.4071455</td><td>&#x27;CHU&#x27;  </td></tr>\n",
       "</tbody>\n",
       "</table>"
      ],
      "text/plain": [
       "<IPython.core.display.HTML object>"
      ]
     },
     "metadata": {},
     "output_type": "display_data"
    }
   ],
   "source": [
    "balanced_data.info()"
   ]
  },
  {
   "cell_type": "code",
   "execution_count": null,
   "metadata": {},
   "outputs": [],
   "source": []
  },
  {
   "cell_type": "code",
   "execution_count": 15,
   "metadata": {},
   "outputs": [
    {
     "data": {
      "text/plain": [
       "array(['STD', 'STD', 'STD', ..., 'CHU', 'CHU', 'CHU'], dtype=object)"
      ]
     },
     "execution_count": 15,
     "metadata": {},
     "output_type": "execute_result"
    }
   ],
   "source": [
    "array_label=balanced_data['label'].to_numpy()\n",
    "array_label"
   ]
  },
  {
   "cell_type": "code",
   "execution_count": 16,
   "metadata": {},
   "outputs": [
    {
     "data": {
      "text/plain": [
       "array([12, 12, 12, ...,  1,  1,  1])"
      ]
     },
     "execution_count": 16,
     "metadata": {},
     "output_type": "execute_result"
    }
   ],
   "source": [
    "lab = LabelEncoder()\n",
    "label_En = lab.fit_transform(array_label)\n",
    "label_En"
   ]
  },
  {
   "cell_type": "code",
   "execution_count": 17,
   "metadata": {},
   "outputs": [
    {
     "data": {
      "text/plain": [
       "array(['BSC', 'CHU', 'CSI', 'CSO', 'FKL', 'FOL', 'JOG', 'JUM', 'LYI',\n",
       "       'SCH', 'SDL', 'SIT', 'STD', 'STN', 'STU', 'WAL'], dtype=object)"
      ]
     },
     "execution_count": 17,
     "metadata": {},
     "output_type": "execute_result"
    }
   ],
   "source": [
    "lab.classes_"
   ]
  },
  {
   "cell_type": "code",
   "execution_count": 18,
   "metadata": {},
   "outputs": [
    {
     "data": {
      "text/html": [
       "<div>\n",
       "<style scoped>\n",
       "    .dataframe tbody tr th:only-of-type {\n",
       "        vertical-align: middle;\n",
       "    }\n",
       "\n",
       "    .dataframe tbody tr th {\n",
       "        vertical-align: top;\n",
       "    }\n",
       "\n",
       "    .dataframe thead th {\n",
       "        text-align: right;\n",
       "    }\n",
       "</style>\n",
       "<table border=\"1\" class=\"dataframe\">\n",
       "  <thead>\n",
       "    <tr style=\"text-align: right;\">\n",
       "      <th></th>\n",
       "      <th>output</th>\n",
       "    </tr>\n",
       "  </thead>\n",
       "  <tbody>\n",
       "    <tr>\n",
       "      <th>0</th>\n",
       "      <td>12</td>\n",
       "    </tr>\n",
       "    <tr>\n",
       "      <th>1</th>\n",
       "      <td>12</td>\n",
       "    </tr>\n",
       "    <tr>\n",
       "      <th>2</th>\n",
       "      <td>12</td>\n",
       "    </tr>\n",
       "    <tr>\n",
       "      <th>3</th>\n",
       "      <td>12</td>\n",
       "    </tr>\n",
       "    <tr>\n",
       "      <th>4</th>\n",
       "      <td>12</td>\n",
       "    </tr>\n",
       "    <tr>\n",
       "      <th>...</th>\n",
       "      <td>...</td>\n",
       "    </tr>\n",
       "    <tr>\n",
       "      <th>610875</th>\n",
       "      <td>1</td>\n",
       "    </tr>\n",
       "    <tr>\n",
       "      <th>610876</th>\n",
       "      <td>1</td>\n",
       "    </tr>\n",
       "    <tr>\n",
       "      <th>610877</th>\n",
       "      <td>1</td>\n",
       "    </tr>\n",
       "    <tr>\n",
       "      <th>610878</th>\n",
       "      <td>1</td>\n",
       "    </tr>\n",
       "    <tr>\n",
       "      <th>610879</th>\n",
       "      <td>1</td>\n",
       "    </tr>\n",
       "  </tbody>\n",
       "</table>\n",
       "<p>610880 rows × 1 columns</p>\n",
       "</div>"
      ],
      "text/plain": [
       "        output\n",
       "0           12\n",
       "1           12\n",
       "2           12\n",
       "3           12\n",
       "4           12\n",
       "...        ...\n",
       "610875       1\n",
       "610876       1\n",
       "610877       1\n",
       "610878       1\n",
       "610879       1\n",
       "\n",
       "[610880 rows x 1 columns]"
      ]
     },
     "execution_count": 18,
     "metadata": {},
     "output_type": "execute_result"
    }
   ],
   "source": [
    "df_label=pd.DataFrame(label_En,columns=['output'])\n",
    "df_label"
   ]
  },
  {
   "cell_type": "code",
   "execution_count": 19,
   "metadata": {},
   "outputs": [
    {
     "data": {
      "text/html": [
       "<table>\n",
       "<thead>\n",
       "<tr><th>#                                  </th><th>output  </th></tr>\n",
       "</thead>\n",
       "<tbody>\n",
       "<tr><td><i style='opacity: 0.6'>0</i>      </td><td>12      </td></tr>\n",
       "<tr><td><i style='opacity: 0.6'>1</i>      </td><td>12      </td></tr>\n",
       "<tr><td><i style='opacity: 0.6'>2</i>      </td><td>12      </td></tr>\n",
       "<tr><td><i style='opacity: 0.6'>3</i>      </td><td>12      </td></tr>\n",
       "<tr><td><i style='opacity: 0.6'>4</i>      </td><td>12      </td></tr>\n",
       "<tr><td>...                                </td><td>...     </td></tr>\n",
       "<tr><td><i style='opacity: 0.6'>610,875</i></td><td>1       </td></tr>\n",
       "<tr><td><i style='opacity: 0.6'>610,876</i></td><td>1       </td></tr>\n",
       "<tr><td><i style='opacity: 0.6'>610,877</i></td><td>1       </td></tr>\n",
       "<tr><td><i style='opacity: 0.6'>610,878</i></td><td>1       </td></tr>\n",
       "<tr><td><i style='opacity: 0.6'>610,879</i></td><td>1       </td></tr>\n",
       "</tbody>\n",
       "</table>"
      ],
      "text/plain": [
       "#        output\n",
       "0        12\n",
       "1        12\n",
       "2        12\n",
       "3        12\n",
       "4        12\n",
       "...      ...\n",
       "610,875  1\n",
       "610,876  1\n",
       "610,877  1\n",
       "610,878  1\n",
       "610,879  1"
      ]
     },
     "execution_count": 19,
     "metadata": {},
     "output_type": "execute_result"
    }
   ],
   "source": [
    "df_En = vaex.from_pandas(df_label)# converting pandas to vaex to combine with original data which already in vaex\n",
    "df_En"
   ]
  },
  {
   "cell_type": "code",
   "execution_count": 20,
   "metadata": {},
   "outputs": [
    {
     "data": {
      "text/html": [
       "<table>\n",
       "<thead>\n",
       "<tr><th>#                            </th><th style=\"text-align: right;\">   acc_x</th><th style=\"text-align: right;\">  acc_y</th><th style=\"text-align: right;\">   acc_z</th><th style=\"text-align: right;\">    gyro_x</th><th style=\"text-align: right;\">    gyro_y</th><th style=\"text-align: right;\">     gyro_z</th><th style=\"text-align: right;\">  azimuth</th><th style=\"text-align: right;\">   pitch</th><th style=\"text-align: right;\">    roll</th><th>label  </th><th>output  </th></tr>\n",
       "</thead>\n",
       "<tbody>\n",
       "<tr><td><i style='opacity: 0.6'>0</i></td><td style=\"text-align: right;\">-1.40731</td><td style=\"text-align: right;\">9.6144 </td><td style=\"text-align: right;\">-2.08667</td><td style=\"text-align: right;\">-0.844216 </td><td style=\"text-align: right;\"> 0.40928  </td><td style=\"text-align: right;\"> 0.0864374 </td><td style=\"text-align: right;\">  92.7469</td><td style=\"text-align: right;\">-36.8797</td><td style=\"text-align: right;\">-11.7411</td><td>&#x27;STD&#x27;  </td><td>--      </td></tr>\n",
       "<tr><td><i style='opacity: 0.6'>1</i></td><td style=\"text-align: right;\">-1.40635</td><td style=\"text-align: right;\">9.61296</td><td style=\"text-align: right;\">-2.08451</td><td style=\"text-align: right;\">-0.711047 </td><td style=\"text-align: right;\"> 0.346971 </td><td style=\"text-align: right;\"> 0.0763582 </td><td style=\"text-align: right;\">  92.2054</td><td style=\"text-align: right;\">-37.4702</td><td style=\"text-align: right;\">-11.8398</td><td>&#x27;STD&#x27;  </td><td>--      </td></tr>\n",
       "<tr><td><i style='opacity: 0.6'>2</i></td><td style=\"text-align: right;\">-1.40538</td><td style=\"text-align: right;\">9.6115 </td><td style=\"text-align: right;\">-2.08232</td><td style=\"text-align: right;\">-0.598953 </td><td style=\"text-align: right;\"> 0.0934624</td><td style=\"text-align: right;\"> 0.0250455 </td><td style=\"text-align: right;\">  91.743 </td><td style=\"text-align: right;\">-38.0908</td><td style=\"text-align: right;\">-11.8809</td><td>&#x27;STD&#x27;  </td><td>--      </td></tr>\n",
       "<tr><td><i style='opacity: 0.6'>3</i></td><td style=\"text-align: right;\">-1.40443</td><td style=\"text-align: right;\">9.61008</td><td style=\"text-align: right;\">-2.08019</td><td style=\"text-align: right;\">-0.128893 </td><td style=\"text-align: right;\">-0.0128282</td><td style=\"text-align: right;\">-0.00244346</td><td style=\"text-align: right;\">  91.2673</td><td style=\"text-align: right;\">-38.8429</td><td style=\"text-align: right;\">-11.9337</td><td>&#x27;STD&#x27;  </td><td>--      </td></tr>\n",
       "<tr><td><i style='opacity: 0.6'>4</i></td><td style=\"text-align: right;\">-1.40348</td><td style=\"text-align: right;\">9.60865</td><td style=\"text-align: right;\">-2.07805</td><td style=\"text-align: right;\"> 0.0494801</td><td style=\"text-align: right;\"> 0.018326 </td><td style=\"text-align: right;\"> 0.0164934 </td><td style=\"text-align: right;\">  90.8197</td><td style=\"text-align: right;\">-39.5386</td><td style=\"text-align: right;\">-11.9574</td><td>&#x27;STD&#x27;  </td><td>--      </td></tr>\n",
       "<tr><td><i style='opacity: 0.6'>5</i></td><td style=\"text-align: right;\">-1.40233</td><td style=\"text-align: right;\">9.60692</td><td style=\"text-align: right;\">-2.07545</td><td style=\"text-align: right;\">-0.0116064</td><td style=\"text-align: right;\"> 0.0284052</td><td style=\"text-align: right;\"> 0.00824668</td><td style=\"text-align: right;\">  90.4137</td><td style=\"text-align: right;\">-40.2856</td><td style=\"text-align: right;\">-11.9591</td><td>&#x27;STD&#x27;  </td><td>--      </td></tr>\n",
       "<tr><td><i style='opacity: 0.6'>6</i></td><td style=\"text-align: right;\">-1.40157</td><td style=\"text-align: right;\">9.60578</td><td style=\"text-align: right;\">-2.07374</td><td style=\"text-align: right;\">-0.0363465</td><td style=\"text-align: right;\"> 0.0152716</td><td style=\"text-align: right;\"> 0.0131336 </td><td style=\"text-align: right;\">  90.0044</td><td style=\"text-align: right;\">-41.0852</td><td style=\"text-align: right;\">-11.9522</td><td>&#x27;STD&#x27;  </td><td>--      </td></tr>\n",
       "<tr><td><i style='opacity: 0.6'>7</i></td><td style=\"text-align: right;\">-1.4006 </td><td style=\"text-align: right;\">9.60433</td><td style=\"text-align: right;\">-2.07156</td><td style=\"text-align: right;\">-0.0351248</td><td style=\"text-align: right;\"> 0.0177151</td><td style=\"text-align: right;\"> 0.0143553 </td><td style=\"text-align: right;\">  89.5979</td><td style=\"text-align: right;\">-41.8653</td><td style=\"text-align: right;\">-11.949 </td><td>&#x27;STD&#x27;  </td><td>--      </td></tr>\n",
       "<tr><td><i style='opacity: 0.6'>8</i></td><td style=\"text-align: right;\">-1.39965</td><td style=\"text-align: right;\">9.6029 </td><td style=\"text-align: right;\">-2.06942</td><td style=\"text-align: right;\">-0.0320704</td><td style=\"text-align: right;\"> 0.0152716</td><td style=\"text-align: right;\"> 0.00977384</td><td style=\"text-align: right;\">  89.2001</td><td style=\"text-align: right;\">-42.6301</td><td style=\"text-align: right;\">-11.9383</td><td>&#x27;STD&#x27;  </td><td>--      </td></tr>\n",
       "<tr><td><i style='opacity: 0.6'>9</i></td><td style=\"text-align: right;\">-1.3987 </td><td style=\"text-align: right;\">9.60148</td><td style=\"text-align: right;\">-2.06729</td><td style=\"text-align: right;\">-0.0244346</td><td style=\"text-align: right;\"> 0.0140499</td><td style=\"text-align: right;\"> 0.00855211</td><td style=\"text-align: right;\">  88.8056</td><td style=\"text-align: right;\">-43.3878</td><td style=\"text-align: right;\">-11.924 </td><td>&#x27;STD&#x27;  </td><td>--      </td></tr>\n",
       "</tbody>\n",
       "</table>"
      ],
      "text/plain": [
       "  #     acc_x    acc_y     acc_z      gyro_x      gyro_y       gyro_z    azimuth     pitch      roll  label    output\n",
       "  0  -1.40731  9.6144   -2.08667  -0.844216    0.40928     0.0864374     92.7469  -36.8797  -11.7411  'STD'    --\n",
       "  1  -1.40635  9.61296  -2.08451  -0.711047    0.346971    0.0763582     92.2054  -37.4702  -11.8398  'STD'    --\n",
       "  2  -1.40538  9.6115   -2.08232  -0.598953    0.0934624   0.0250455     91.743   -38.0908  -11.8809  'STD'    --\n",
       "  3  -1.40443  9.61008  -2.08019  -0.128893   -0.0128282  -0.00244346    91.2673  -38.8429  -11.9337  'STD'    --\n",
       "  4  -1.40348  9.60865  -2.07805   0.0494801   0.018326    0.0164934     90.8197  -39.5386  -11.9574  'STD'    --\n",
       "  5  -1.40233  9.60692  -2.07545  -0.0116064   0.0284052   0.00824668    90.4137  -40.2856  -11.9591  'STD'    --\n",
       "  6  -1.40157  9.60578  -2.07374  -0.0363465   0.0152716   0.0131336     90.0044  -41.0852  -11.9522  'STD'    --\n",
       "  7  -1.4006   9.60433  -2.07156  -0.0351248   0.0177151   0.0143553     89.5979  -41.8653  -11.949   'STD'    --\n",
       "  8  -1.39965  9.6029   -2.06942  -0.0320704   0.0152716   0.00977384    89.2001  -42.6301  -11.9383  'STD'    --\n",
       "  9  -1.3987   9.60148  -2.06729  -0.0244346   0.0140499   0.00855211    88.8056  -43.3878  -11.924   'STD'    --"
      ]
     },
     "execution_count": 20,
     "metadata": {},
     "output_type": "execute_result"
    }
   ],
   "source": [
    "#df_out = balanced_data.concat(df_En)\n",
    "df_out = vaex.concat([balanced_data, df_En])\n",
    "df_out.head()"
   ]
  },
  {
   "cell_type": "code",
   "execution_count": 21,
   "metadata": {},
   "outputs": [
    {
     "data": {
      "text/plain": [
       "Expression = output\n",
       "Length: 1,221,760 dtype: int32 (column)\n",
       "---------------------------------------\n",
       "      0  --\n",
       "      1  --\n",
       "      2  --\n",
       "      3  --\n",
       "      4  --\n",
       "    ...    \n",
       "1221755   1\n",
       "1221756   1\n",
       "1221757   1\n",
       "1221758   1\n",
       "1221759   1"
      ]
     },
     "execution_count": 21,
     "metadata": {},
     "output_type": "execute_result"
    }
   ],
   "source": [
    "df_out['output']"
   ]
  },
  {
   "cell_type": "code",
   "execution_count": 22,
   "metadata": {},
   "outputs": [],
   "source": [
    "X = balanced_data[['acc_x', 'acc_y', 'acc_z','gyro_x','gyro_y','gyro_z','azimuth','pitch','roll']]\n",
    "y = df_En"
   ]
  },
  {
   "cell_type": "code",
   "execution_count": 23,
   "metadata": {},
   "outputs": [
    {
     "data": {
      "text/html": [
       "<div>\n",
       "<style scoped>\n",
       "    .dataframe tbody tr th:only-of-type {\n",
       "        vertical-align: middle;\n",
       "    }\n",
       "\n",
       "    .dataframe tbody tr th {\n",
       "        vertical-align: top;\n",
       "    }\n",
       "\n",
       "    .dataframe thead th {\n",
       "        text-align: right;\n",
       "    }\n",
       "</style>\n",
       "<table border=\"1\" class=\"dataframe\">\n",
       "  <thead>\n",
       "    <tr style=\"text-align: right;\">\n",
       "      <th></th>\n",
       "      <th>acc_x</th>\n",
       "      <th>acc_y</th>\n",
       "      <th>acc_z</th>\n",
       "      <th>gyro_x</th>\n",
       "      <th>gyro_y</th>\n",
       "      <th>gyro_z</th>\n",
       "      <th>azimuth</th>\n",
       "      <th>pitch</th>\n",
       "      <th>roll</th>\n",
       "      <th>label</th>\n",
       "    </tr>\n",
       "  </thead>\n",
       "  <tbody>\n",
       "    <tr>\n",
       "      <th>0</th>\n",
       "      <td>-0.333291</td>\n",
       "      <td>0.762186</td>\n",
       "      <td>-0.649761</td>\n",
       "      <td>-0.727269</td>\n",
       "      <td>0.388183</td>\n",
       "      <td>0.082497</td>\n",
       "      <td>-0.679613</td>\n",
       "      <td>0.196909</td>\n",
       "      <td>-0.458540</td>\n",
       "      <td>12.0</td>\n",
       "    </tr>\n",
       "    <tr>\n",
       "      <th>1</th>\n",
       "      <td>-0.333100</td>\n",
       "      <td>0.761953</td>\n",
       "      <td>-0.649351</td>\n",
       "      <td>-0.608012</td>\n",
       "      <td>0.331265</td>\n",
       "      <td>0.071228</td>\n",
       "      <td>-0.684603</td>\n",
       "      <td>0.188906</td>\n",
       "      <td>-0.461880</td>\n",
       "      <td>12.0</td>\n",
       "    </tr>\n",
       "    <tr>\n",
       "      <th>2</th>\n",
       "      <td>-0.332905</td>\n",
       "      <td>0.761717</td>\n",
       "      <td>-0.648933</td>\n",
       "      <td>-0.507627</td>\n",
       "      <td>0.099689</td>\n",
       "      <td>0.013862</td>\n",
       "      <td>-0.688863</td>\n",
       "      <td>0.180494</td>\n",
       "      <td>-0.463271</td>\n",
       "      <td>12.0</td>\n",
       "    </tr>\n",
       "    <tr>\n",
       "      <th>3</th>\n",
       "      <td>-0.332716</td>\n",
       "      <td>0.761486</td>\n",
       "      <td>-0.648526</td>\n",
       "      <td>-0.086670</td>\n",
       "      <td>0.002594</td>\n",
       "      <td>-0.016870</td>\n",
       "      <td>-0.693246</td>\n",
       "      <td>0.170300</td>\n",
       "      <td>-0.465059</td>\n",
       "      <td>12.0</td>\n",
       "    </tr>\n",
       "    <tr>\n",
       "      <th>4</th>\n",
       "      <td>-0.332527</td>\n",
       "      <td>0.761256</td>\n",
       "      <td>-0.648119</td>\n",
       "      <td>0.073069</td>\n",
       "      <td>0.031053</td>\n",
       "      <td>0.004301</td>\n",
       "      <td>-0.697371</td>\n",
       "      <td>0.160870</td>\n",
       "      <td>-0.465861</td>\n",
       "      <td>12.0</td>\n",
       "    </tr>\n",
       "  </tbody>\n",
       "</table>\n",
       "</div>"
      ],
      "text/plain": [
       "      acc_x     acc_y     acc_z    gyro_x    gyro_y    gyro_z   azimuth  \\\n",
       "0 -0.333291  0.762186 -0.649761 -0.727269  0.388183  0.082497 -0.679613   \n",
       "1 -0.333100  0.761953 -0.649351 -0.608012  0.331265  0.071228 -0.684603   \n",
       "2 -0.332905  0.761717 -0.648933 -0.507627  0.099689  0.013862 -0.688863   \n",
       "3 -0.332716  0.761486 -0.648526 -0.086670  0.002594 -0.016870 -0.693246   \n",
       "4 -0.332527  0.761256 -0.648119  0.073069  0.031053  0.004301 -0.697371   \n",
       "\n",
       "      pitch      roll  label  \n",
       "0  0.196909 -0.458540   12.0  \n",
       "1  0.188906 -0.461880   12.0  \n",
       "2  0.180494 -0.463271   12.0  \n",
       "3  0.170300 -0.465059   12.0  \n",
       "4  0.160870 -0.465861   12.0  "
      ]
     },
     "execution_count": 23,
     "metadata": {},
     "output_type": "execute_result"
    }
   ],
   "source": [
    "scaler = StandardScaler()\n",
    "X = scaler.fit_transform(X)\n",
    "\n",
    "scaled_X = pd.DataFrame(data = X, columns = ['acc_x', 'acc_y', 'acc_z','gyro_x','gyro_y','gyro_z','azimuth','pitch','roll'])\n",
    "scaled_X['label'] = y.values\n",
    "#scaled_X = vaex.from_pandas(scaled_X)\n",
    "\n",
    "\n",
    "scaled_X.head()"
   ]
  },
  {
   "cell_type": "code",
   "execution_count": 24,
   "metadata": {},
   "outputs": [],
   "source": [
    "import scipy.stats as stats\n",
    "Fs = 20\n",
    "frame_size = Fs*4 # 80\n",
    "hop_size = Fs*2 # 40"
   ]
  },
  {
   "cell_type": "code",
   "execution_count": 25,
   "metadata": {},
   "outputs": [
    {
     "data": {
      "text/plain": [
       "((15270, 80, 9), (15270,))"
      ]
     },
     "execution_count": 25,
     "metadata": {},
     "output_type": "execute_result"
    }
   ],
   "source": [
    "def get_frames(df, frame_size, hop_size):\n",
    "\n",
    "    N_FEATURES = 9\n",
    "\n",
    "    frames = []\n",
    "    labels = []\n",
    "    for i in range(0, len(df) - frame_size, hop_size):\n",
    "        acc_x = df['acc_x'].values[i: i + frame_size]\n",
    "        acc_y = df['acc_y'].values[i: i + frame_size]\n",
    "        acc_z = df['acc_z'].values[i: i + frame_size]\n",
    "        gyro_x = df['gyro_x'].values[i: i + frame_size]\n",
    "        gyro_y = df['gyro_y'].values[i: i + frame_size]\n",
    "        gyro_z = df['gyro_z'].values[i: i + frame_size]\n",
    "        azimuth = df['azimuth'].values[i: i + frame_size]\n",
    "        pitch = df['pitch'].values[i: i + frame_size]\n",
    "        roll = df['roll'].values[i: i + frame_size] \n",
    "        \n",
    "        # Retrieve the most often used label in this segment\n",
    "        label = stats.mode(df['label'][i: i + frame_size])[0][0]\n",
    "        frames.append([acc_x, acc_y, acc_z,gyro_x,gyro_y,gyro_z,azimuth,pitch,roll])\n",
    "        labels.append(label)\n",
    "\n",
    "    # Bring the segments into a better shape\n",
    "    frames = np.asarray(frames).reshape(-1, frame_size, N_FEATURES)\n",
    "    labels = np.asarray(labels)\n",
    "\n",
    "    return frames, labels\n",
    "\n",
    "X, y = get_frames(scaled_X, frame_size, hop_size)\n",
    "\n",
    "X.shape, y.shape"
   ]
  },
  {
   "cell_type": "code",
   "execution_count": 26,
   "metadata": {},
   "outputs": [],
   "source": [
    "X_train, X_test, y_train, y_test = train_test_split(X, y, test_size = 0.2, random_state = 0, stratify = y)"
   ]
  },
  {
   "cell_type": "code",
   "execution_count": 27,
   "metadata": {},
   "outputs": [
    {
     "data": {
      "text/plain": [
       "((12216, 80, 9), (3054, 80, 9))"
      ]
     },
     "execution_count": 27,
     "metadata": {},
     "output_type": "execute_result"
    }
   ],
   "source": [
    "X_train.shape, X_test.shape"
   ]
  },
  {
   "cell_type": "code",
   "execution_count": 28,
   "metadata": {},
   "outputs": [
    {
     "data": {
      "text/plain": [
       "((80, 9), (80, 9))"
      ]
     },
     "execution_count": 28,
     "metadata": {},
     "output_type": "execute_result"
    }
   ],
   "source": [
    "X_train[0].shape, X_test[0].shape"
   ]
  },
  {
   "cell_type": "code",
   "execution_count": 29,
   "metadata": {},
   "outputs": [],
   "source": [
    "X_train = X_train.reshape(12216, 80, 9, 1)\n",
    "X_test = X_test.reshape(3054, 80, 9, 1)"
   ]
  },
  {
   "cell_type": "code",
   "execution_count": 30,
   "metadata": {},
   "outputs": [
    {
     "data": {
      "text/plain": [
       "((80, 9, 1), (80, 9, 1))"
      ]
     },
     "execution_count": 30,
     "metadata": {},
     "output_type": "execute_result"
    }
   ],
   "source": [
    "X_train[0].shape, X_test[0].shape"
   ]
  },
  {
   "cell_type": "code",
   "execution_count": 31,
   "metadata": {},
   "outputs": [],
   "source": [
    "model = Sequential()\n",
    "model.add(Conv2D(16, (2, 2), activation = 'relu', input_shape = X_train[0].shape))\n",
    "model.add(Dropout(0.1))\n",
    "\n",
    "model.add(Conv2D(32, (2, 2), activation='relu'))\n",
    "model.add(Dropout(0.2))\n",
    "\n",
    "model.add(Conv2D(32, (2, 2), activation='relu'))\n",
    "model.add(Dropout(0.2))\n",
    "\n",
    "model.add(Conv2D(64, (2, 2), activation='relu'))\n",
    "model.add(Dropout(0.2))\n",
    "\n",
    "\n",
    "\n",
    "model.add(Flatten())\n",
    "\n",
    "model.add(Dense(64, activation = 'relu'))\n",
    "model.add(Dropout(0.5))\n",
    "\n",
    "model.add(Dense(16, activation='softmax'))"
   ]
  },
  {
   "cell_type": "code",
   "execution_count": 32,
   "metadata": {},
   "outputs": [],
   "source": [
    "learning_rate = 0.001\n",
    "model.compile(optimizer=Adam(learning_rate), loss = 'sparse_categorical_crossentropy', metrics = ['accuracy'])"
   ]
  },
  {
   "cell_type": "code",
   "execution_count": 33,
   "metadata": {},
   "outputs": [
    {
     "name": "stdout",
     "output_type": "stream",
     "text": [
      "Train on 12216 samples, validate on 3054 samples\n",
      "Epoch 1/70\n",
      "12216/12216 [==============================] - 18s 1ms/sample - loss: 1.9914 - accuracy: 0.3375 - val_loss: 1.3846 - val_accuracy: 0.5576\n",
      "Epoch 2/70\n",
      "12216/12216 [==============================] - 18s 1ms/sample - loss: 1.4889 - accuracy: 0.4822 - val_loss: 1.1078 - val_accuracy: 0.6418\n",
      "Epoch 3/70\n",
      "12216/12216 [==============================] - 17s 1ms/sample - loss: 1.3243 - accuracy: 0.5323 - val_loss: 1.0099 - val_accuracy: 0.6683\n",
      "Epoch 4/70\n",
      "12216/12216 [==============================] - 17s 1ms/sample - loss: 1.2436 - accuracy: 0.5596 - val_loss: 0.9325 - val_accuracy: 0.6876\n",
      "Epoch 5/70\n",
      "12216/12216 [==============================] - 18s 1ms/sample - loss: 1.1811 - accuracy: 0.5783 - val_loss: 0.8777 - val_accuracy: 0.6991\n",
      "Epoch 6/70\n",
      "12216/12216 [==============================] - 21s 2ms/sample - loss: 1.1112 - accuracy: 0.5981 - val_loss: 0.8505 - val_accuracy: 0.7138\n",
      "Epoch 7/70\n",
      "12216/12216 [==============================] - 22s 2ms/sample - loss: 1.0805 - accuracy: 0.6124 - val_loss: 0.8208 - val_accuracy: 0.7181\n",
      "Epoch 8/70\n",
      "12216/12216 [==============================] - 20s 2ms/sample - loss: 1.0259 - accuracy: 0.6264 - val_loss: 0.7975 - val_accuracy: 0.7400\n",
      "Epoch 9/70\n",
      "12216/12216 [==============================] - 20s 2ms/sample - loss: 0.9919 - accuracy: 0.6352 - val_loss: 0.7622 - val_accuracy: 0.7407\n",
      "Epoch 10/70\n",
      "12216/12216 [==============================] - 20s 2ms/sample - loss: 0.9606 - accuracy: 0.6542 - val_loss: 0.7635 - val_accuracy: 0.7390\n",
      "Epoch 11/70\n",
      "12216/12216 [==============================] - 20s 2ms/sample - loss: 0.9265 - accuracy: 0.6571 - val_loss: 0.7317 - val_accuracy: 0.7485\n",
      "Epoch 12/70\n",
      "12216/12216 [==============================] - 20s 2ms/sample - loss: 0.8944 - accuracy: 0.6722 - val_loss: 0.7321 - val_accuracy: 0.7525\n",
      "Epoch 13/70\n",
      "12216/12216 [==============================] - 20s 2ms/sample - loss: 0.8606 - accuracy: 0.6851 - val_loss: 0.7156 - val_accuracy: 0.7518\n",
      "Epoch 14/70\n",
      "12216/12216 [==============================] - 20s 2ms/sample - loss: 0.8355 - accuracy: 0.6904 - val_loss: 0.6893 - val_accuracy: 0.7534\n",
      "Epoch 15/70\n",
      "12216/12216 [==============================] - 21s 2ms/sample - loss: 0.8004 - accuracy: 0.7027 - val_loss: 0.7072 - val_accuracy: 0.7580\n",
      "Epoch 16/70\n",
      "12216/12216 [==============================] - 20s 2ms/sample - loss: 0.7813 - accuracy: 0.7024 - val_loss: 0.6711 - val_accuracy: 0.7698\n",
      "Epoch 17/70\n",
      "12216/12216 [==============================] - 20s 2ms/sample - loss: 0.7724 - accuracy: 0.7101 - val_loss: 0.6932 - val_accuracy: 0.7623\n",
      "Epoch 18/70\n",
      "12216/12216 [==============================] - 20s 2ms/sample - loss: 0.7539 - accuracy: 0.7200 - val_loss: 0.6922 - val_accuracy: 0.7695\n",
      "Epoch 19/70\n",
      "12216/12216 [==============================] - 20s 2ms/sample - loss: 0.7250 - accuracy: 0.7296 - val_loss: 0.6963 - val_accuracy: 0.7646\n",
      "Epoch 20/70\n",
      "12216/12216 [==============================] - 20s 2ms/sample - loss: 0.7158 - accuracy: 0.7334 - val_loss: 0.6564 - val_accuracy: 0.7809\n",
      "Epoch 21/70\n",
      "12216/12216 [==============================] - 20s 2ms/sample - loss: 0.6903 - accuracy: 0.7344 - val_loss: 0.7179 - val_accuracy: 0.7678\n",
      "Epoch 22/70\n",
      "12216/12216 [==============================] - 20s 2ms/sample - loss: 0.6743 - accuracy: 0.7448 - val_loss: 0.6633 - val_accuracy: 0.7793\n",
      "Epoch 23/70\n",
      "12216/12216 [==============================] - 20s 2ms/sample - loss: 0.6641 - accuracy: 0.7498 - val_loss: 0.6638 - val_accuracy: 0.7737\n",
      "Epoch 24/70\n",
      "12216/12216 [==============================] - 20s 2ms/sample - loss: 0.6476 - accuracy: 0.7567 - val_loss: 0.6378 - val_accuracy: 0.7744\n",
      "Epoch 25/70\n",
      "12216/12216 [==============================] - 20s 2ms/sample - loss: 0.6342 - accuracy: 0.7574 - val_loss: 0.6615 - val_accuracy: 0.7803\n",
      "Epoch 26/70\n",
      "12216/12216 [==============================] - 20s 2ms/sample - loss: 0.6405 - accuracy: 0.7606 - val_loss: 0.6443 - val_accuracy: 0.7875\n",
      "Epoch 27/70\n",
      "12216/12216 [==============================] - 20s 2ms/sample - loss: 0.6049 - accuracy: 0.7678 - val_loss: 0.6896 - val_accuracy: 0.7760\n",
      "Epoch 28/70\n",
      "12216/12216 [==============================] - 20s 2ms/sample - loss: 0.6087 - accuracy: 0.7669 - val_loss: 0.6707 - val_accuracy: 0.7839\n",
      "Epoch 29/70\n",
      "12216/12216 [==============================] - 20s 2ms/sample - loss: 0.5949 - accuracy: 0.7775 - val_loss: 0.6867 - val_accuracy: 0.7813\n",
      "Epoch 30/70\n",
      "12216/12216 [==============================] - 20s 2ms/sample - loss: 0.5890 - accuracy: 0.7738 - val_loss: 0.6922 - val_accuracy: 0.7839\n",
      "Epoch 31/70\n",
      "12216/12216 [==============================] - 21s 2ms/sample - loss: 0.5757 - accuracy: 0.7818 - val_loss: 0.6458 - val_accuracy: 0.7973\n",
      "Epoch 32/70\n",
      "12216/12216 [==============================] - 21s 2ms/sample - loss: 0.5688 - accuracy: 0.7823 - val_loss: 0.6441 - val_accuracy: 0.7908\n",
      "Epoch 33/70\n",
      "12216/12216 [==============================] - 20s 2ms/sample - loss: 0.5670 - accuracy: 0.7781 - val_loss: 0.6649 - val_accuracy: 0.7950\n",
      "Epoch 34/70\n",
      "12216/12216 [==============================] - 20s 2ms/sample - loss: 0.5667 - accuracy: 0.7809 - val_loss: 0.6904 - val_accuracy: 0.7875\n",
      "Epoch 35/70\n",
      "12216/12216 [==============================] - 20s 2ms/sample - loss: 0.5448 - accuracy: 0.7933 - val_loss: 0.7041 - val_accuracy: 0.7885\n",
      "Epoch 36/70\n",
      "12216/12216 [==============================] - 20s 2ms/sample - loss: 0.5408 - accuracy: 0.7928 - val_loss: 0.7006 - val_accuracy: 0.7891\n",
      "Epoch 37/70\n",
      "12216/12216 [==============================] - 21s 2ms/sample - loss: 0.5321 - accuracy: 0.7958 - val_loss: 0.7187 - val_accuracy: 0.7875\n",
      "Epoch 38/70\n",
      "12216/12216 [==============================] - 20s 2ms/sample - loss: 0.5264 - accuracy: 0.7987 - val_loss: 0.6970 - val_accuracy: 0.7937\n",
      "Epoch 39/70\n",
      "12216/12216 [==============================] - 20s 2ms/sample - loss: 0.5333 - accuracy: 0.7961 - val_loss: 0.7290 - val_accuracy: 0.7885\n",
      "Epoch 40/70\n",
      "12216/12216 [==============================] - 20s 2ms/sample - loss: 0.5206 - accuracy: 0.8001 - val_loss: 0.7133 - val_accuracy: 0.7859\n",
      "Epoch 41/70\n",
      "12216/12216 [==============================] - 20s 2ms/sample - loss: 0.5232 - accuracy: 0.8008 - val_loss: 0.6799 - val_accuracy: 0.7990\n",
      "Epoch 42/70\n",
      "12216/12216 [==============================] - 20s 2ms/sample - loss: 0.5088 - accuracy: 0.8057 - val_loss: 0.6902 - val_accuracy: 0.7898\n",
      "Epoch 43/70\n",
      "12216/12216 [==============================] - 20s 2ms/sample - loss: 0.5143 - accuracy: 0.8016 - val_loss: 0.6605 - val_accuracy: 0.8039\n",
      "Epoch 44/70\n",
      "12216/12216 [==============================] - 20s 2ms/sample - loss: 0.4981 - accuracy: 0.8063 - val_loss: 0.6947 - val_accuracy: 0.7940\n",
      "Epoch 45/70\n",
      "12216/12216 [==============================] - 20s 2ms/sample - loss: 0.4933 - accuracy: 0.8104 - val_loss: 0.7549 - val_accuracy: 0.7934\n",
      "Epoch 46/70\n",
      "12216/12216 [==============================] - 20s 2ms/sample - loss: 0.4893 - accuracy: 0.8116 - val_loss: 0.7443 - val_accuracy: 0.7931\n",
      "Epoch 47/70\n",
      "12216/12216 [==============================] - 21s 2ms/sample - loss: 0.4931 - accuracy: 0.8093 - val_loss: 0.7372 - val_accuracy: 0.7980\n",
      "Epoch 48/70\n",
      "12216/12216 [==============================] - 21s 2ms/sample - loss: 0.4788 - accuracy: 0.8149 - val_loss: 0.7385 - val_accuracy: 0.7931\n",
      "Epoch 49/70\n",
      "12216/12216 [==============================] - 22s 2ms/sample - loss: 0.4728 - accuracy: 0.8180 - val_loss: 0.7424 - val_accuracy: 0.7970\n",
      "Epoch 50/70\n",
      "12216/12216 [==============================] - 22s 2ms/sample - loss: 0.4799 - accuracy: 0.8139 - val_loss: 0.8064 - val_accuracy: 0.7842\n",
      "Epoch 51/70\n",
      "12216/12216 [==============================] - 21s 2ms/sample - loss: 0.4783 - accuracy: 0.8141 - val_loss: 0.7413 - val_accuracy: 0.7990\n",
      "Epoch 52/70\n",
      "12216/12216 [==============================] - 21s 2ms/sample - loss: 0.4691 - accuracy: 0.8201 - val_loss: 0.7386 - val_accuracy: 0.7957\n",
      "Epoch 53/70\n",
      "12216/12216 [==============================] - 21s 2ms/sample - loss: 0.4575 - accuracy: 0.8236 - val_loss: 0.7786 - val_accuracy: 0.7917\n",
      "Epoch 54/70\n",
      "12216/12216 [==============================] - 21s 2ms/sample - loss: 0.4478 - accuracy: 0.8274 - val_loss: 0.7308 - val_accuracy: 0.7960\n",
      "Epoch 55/70\n",
      "12216/12216 [==============================] - 20s 2ms/sample - loss: 0.4565 - accuracy: 0.8237 - val_loss: 0.7392 - val_accuracy: 0.7950\n",
      "Epoch 56/70\n",
      "12216/12216 [==============================] - 20s 2ms/sample - loss: 0.4525 - accuracy: 0.8235 - val_loss: 0.7568 - val_accuracy: 0.7954\n",
      "Epoch 57/70\n",
      "12216/12216 [==============================] - 20s 2ms/sample - loss: 0.4503 - accuracy: 0.8260 - val_loss: 0.7724 - val_accuracy: 0.7947\n",
      "Epoch 58/70\n",
      "12216/12216 [==============================] - 20s 2ms/sample - loss: 0.4368 - accuracy: 0.8336 - val_loss: 0.7636 - val_accuracy: 0.7914\n",
      "Epoch 59/70\n",
      "12216/12216 [==============================] - 20s 2ms/sample - loss: 0.4326 - accuracy: 0.8311 - val_loss: 0.7906 - val_accuracy: 0.8048\n",
      "Epoch 60/70\n",
      "12216/12216 [==============================] - 21s 2ms/sample - loss: 0.4334 - accuracy: 0.8335 - val_loss: 0.7888 - val_accuracy: 0.7868\n",
      "Epoch 61/70\n",
      "12216/12216 [==============================] - 20s 2ms/sample - loss: 0.4199 - accuracy: 0.8322 - val_loss: 0.7730 - val_accuracy: 0.7980\n",
      "Epoch 62/70\n",
      "12216/12216 [==============================] - 21s 2ms/sample - loss: 0.4385 - accuracy: 0.8272 - val_loss: 0.7690 - val_accuracy: 0.7983\n",
      "Epoch 63/70\n",
      "12216/12216 [==============================] - 21s 2ms/sample - loss: 0.4301 - accuracy: 0.8367 - val_loss: 0.7648 - val_accuracy: 0.7950\n",
      "Epoch 64/70\n",
      "12216/12216 [==============================] - 21s 2ms/sample - loss: 0.4184 - accuracy: 0.8384 - val_loss: 0.7734 - val_accuracy: 0.7976\n",
      "Epoch 65/70\n",
      "12216/12216 [==============================] - 21s 2ms/sample - loss: 0.4171 - accuracy: 0.8390 - val_loss: 0.7762 - val_accuracy: 0.7934\n",
      "Epoch 66/70\n",
      "12216/12216 [==============================] - 21s 2ms/sample - loss: 0.4197 - accuracy: 0.8378 - val_loss: 0.7752 - val_accuracy: 0.7947\n",
      "Epoch 67/70\n",
      "12216/12216 [==============================] - 21s 2ms/sample - loss: 0.4152 - accuracy: 0.8382 - val_loss: 0.8152 - val_accuracy: 0.7963\n",
      "Epoch 68/70\n",
      "12216/12216 [==============================] - 21s 2ms/sample - loss: 0.4015 - accuracy: 0.8444 - val_loss: 0.7563 - val_accuracy: 0.8058\n",
      "Epoch 69/70\n",
      "12216/12216 [==============================] - 21s 2ms/sample - loss: 0.4133 - accuracy: 0.8435 - val_loss: 0.7999 - val_accuracy: 0.7960\n",
      "Epoch 70/70\n",
      "12216/12216 [==============================] - 21s 2ms/sample - loss: 0.3929 - accuracy: 0.8470 - val_loss: 0.7965 - val_accuracy: 0.8012\n"
     ]
    }
   ],
   "source": [
    "history = model.fit(X_train, y_train, epochs = 70, validation_data= (X_test, y_test), verbose=1)"
   ]
  },
  {
   "cell_type": "code",
   "execution_count": 34,
   "metadata": {},
   "outputs": [],
   "source": [
    "def plot_learningCurve(history, epochs):\n",
    "  # Plot training & validation accuracy values\n",
    "  epoch_range = range(1, epochs+1)\n",
    "  plt.plot(epoch_range, history.history['accuracy'])\n",
    "  plt.plot(epoch_range, history.history['val_accuracy'])\n",
    "  plt.title('Model accuracy')\n",
    "  plt.ylabel('Accuracy')\n",
    "  plt.xlabel('Epoch')\n",
    "  plt.legend(['Train', 'Val'], loc='upper left')\n",
    "  plt.show()\n",
    "\n",
    "  # Plot training & validation loss values\n",
    "  plt.plot(epoch_range, history.history['loss'])\n",
    "  plt.plot(epoch_range, history.history['val_loss'])\n",
    "  plt.title('Model loss')\n",
    "  plt.ylabel('Loss')\n",
    "  plt.xlabel('Epoch')\n",
    "  plt.legend(['Train', 'Val'], loc='upper left')\n",
    "  plt.show()"
   ]
  },
  {
   "cell_type": "code",
   "execution_count": 36,
   "metadata": {
    "scrolled": true
   },
   "outputs": [
    {
     "data": {
      "image/png": "[encoded data removed]",
      "text/plain": [
       "<Figure size 432x288 with 1 Axes>"
      ]
     },
     "metadata": {
      "needs_background": "light"
     },
     "output_type": "display_data"
    },
    {
     "data": {
      "image/png": "[encoded data removed]",
      "text/plain": [
       "<Figure size 432x288 with 1 Axes>"
      ]
     },
     "metadata": {
      "needs_background": "light"
     },
     "output_type": "display_data"
    }
   ],
   "source": [
    "plot_learningCurve(history,70)"
   ]
  },
  {
   "cell_type": "code",
   "execution_count": 37,
   "metadata": {},
   "outputs": [],
   "source": [
    "from mlxtend.plotting import plot_confusion_matrix\n",
    "from sklearn.metrics import confusion_matrix"
   ]
  },
  {
   "cell_type": "code",
   "execution_count": 38,
   "metadata": {},
   "outputs": [],
   "source": [
    "y_pred = model.predict_classes(X_test)"
   ]
  },
  {
   "cell_type": "code",
   "execution_count": 39,
   "metadata": {},
   "outputs": [
    {
     "data": {
      "text/plain": [
       "(<Figure size 1152x1152 with 1 Axes>,\n",
       " <AxesSubplot:xlabel='predicted label', ylabel='true label'>)"
      ]
     },
     "execution_count": 39,
     "metadata": {},
     "output_type": "execute_result"
    },
    {
     "data": {
      "image/png": "[encoded data removed]",
      "text/plain": [
       "<Figure size 1152x1152 with 1 Axes>"
      ]
     },
     "metadata": {
      "needs_background": "light"
     },
     "output_type": "display_data"
    }
   ],
   "source": [
    "mat = confusion_matrix(y_test, y_pred)\n",
    "plot_confusion_matrix(conf_mat=mat, class_names=lab.classes_, show_normed=True, figsize=(16,16))"
   ]
  },
  {
   "cell_type": "code",
   "execution_count": 40,
   "metadata": {},
   "outputs": [
    {
     "name": "stdout",
     "output_type": "stream",
     "text": [
      "Model: \"sequential\"\n",
      "_________________________________________________________________\n",
      "Layer (type)                 Output Shape              Param #   \n",
      "=================================================================\n",
      "conv2d (Conv2D)              (None, 79, 8, 16)         80        \n",
      "_________________________________________________________________\n",
      "dropout (Dropout)            (None, 79, 8, 16)         0         \n",
      "_________________________________________________________________\n",
      "conv2d_1 (Conv2D)            (None, 78, 7, 32)         2080      \n",
      "_________________________________________________________________\n",
      "dropout_1 (Dropout)          (None, 78, 7, 32)         0         \n",
      "_________________________________________________________________\n",
      "conv2d_2 (Conv2D)            (None, 77, 6, 32)         4128      \n",
      "_________________________________________________________________\n",
      "dropout_2 (Dropout)          (None, 77, 6, 32)         0         \n",
      "_________________________________________________________________\n",
      "conv2d_3 (Conv2D)            (None, 76, 5, 64)         8256      \n",
      "_________________________________________________________________\n",
      "dropout_3 (Dropout)          (None, 76, 5, 64)         0         \n",
      "_________________________________________________________________\n",
      "flatten (Flatten)            (None, 24320)             0         \n",
      "_________________________________________________________________\n",
      "dense (Dense)                (None, 64)                1556544   \n",
      "_________________________________________________________________\n",
      "dropout_4 (Dropout)          (None, 64)                0         \n",
      "_________________________________________________________________\n",
      "dense_1 (Dense)              (None, 16)                1040      \n",
      "=================================================================\n",
      "Total params: 1,572,128\n",
      "Trainable params: 1,572,128\n",
      "Non-trainable params: 0\n",
      "_________________________________________________________________\n"
     ]
    }
   ],
   "source": [
    "model.summary()"
   ]
  },
  {
   "cell_type": "code",
   "execution_count": 44,
   "metadata": {},
   "outputs": [],
   "source": [
    "model.save('mobifall trained model/model.h5')"
   ]
  },
  {
   "cell_type": "code",
   "execution_count": 45,
   "metadata": {},
   "outputs": [],
   "source": [
    "from tensorflow.keras.models import load_model\n",
    "new_model=load_model('mobifall trained model/model.h5')"
   ]
  },
  {
   "cell_type": "code",
   "execution_count": 46,
   "metadata": {},
   "outputs": [
    {
     "name": "stdout",
     "output_type": "stream",
     "text": [
      "Model: \"sequential\"\n",
      "_________________________________________________________________\n",
      "Layer (type)                 Output Shape              Param #   \n",
      "=================================================================\n",
      "conv2d (Conv2D)              (None, 79, 8, 16)         80        \n",
      "_________________________________________________________________\n",
      "dropout (Dropout)            (None, 79, 8, 16)         0         \n",
      "_________________________________________________________________\n",
      "conv2d_1 (Conv2D)            (None, 78, 7, 32)         2080      \n",
      "_________________________________________________________________\n",
      "dropout_1 (Dropout)          (None, 78, 7, 32)         0         \n",
      "_________________________________________________________________\n",
      "conv2d_2 (Conv2D)            (None, 77, 6, 32)         4128      \n",
      "_________________________________________________________________\n",
      "dropout_2 (Dropout)          (None, 77, 6, 32)         0         \n",
      "_________________________________________________________________\n",
      "conv2d_3 (Conv2D)            (None, 76, 5, 64)         8256      \n",
      "_________________________________________________________________\n",
      "dropout_3 (Dropout)          (None, 76, 5, 64)         0         \n",
      "_________________________________________________________________\n",
      "flatten (Flatten)            (None, 24320)             0         \n",
      "_________________________________________________________________\n",
      "dense (Dense)                (None, 64)                1556544   \n",
      "_________________________________________________________________\n",
      "dropout_4 (Dropout)          (None, 64)                0         \n",
      "_________________________________________________________________\n",
      "dense_1 (Dense)              (None, 16)                1040      \n",
      "=================================================================\n",
      "Total params: 1,572,128\n",
      "Trainable params: 1,572,128\n",
      "Non-trainable params: 0\n",
      "_________________________________________________________________\n"
     ]
    }
   ],
   "source": [
    "new_model.summary()"
   ]
  },
  {
   "cell_type": "code",
   "execution_count": 47,
   "metadata": {},
   "outputs": [
    {
     "data": {
      "text/plain": [
       "6291272"
      ]
     },
     "execution_count": 47,
     "metadata": {},
     "output_type": "execute_result"
    }
   ],
   "source": [
    "tf_lite_converter=tf.lite.TFLiteConverter.from_keras_model(model)\n",
    "tflite_model=tf_lite_converter.convert()\n",
    "open('tfconvertedmodel.tflite','wb').write(tflite_model)"
   ]
  },
  {
   "cell_type": "code",
   "execution_count": null,
   "metadata": {},
   "outputs": [],
   "source": []
  }
 ],
 "metadata": {
  "kernelspec": {
   "display_name": "python3.6(tensorflow)",
   "language": "python",
   "name": "tensorflow"
  },
  "language_info": {
   "codemirror_mode": {
    "name": "ipython",
    "version": 3
   },
   "file_extension": ".py",
   "mimetype": "text/x-python",
   "name": "python",
   "nbconvert_exporter": "python",
   "pygments_lexer": "ipython3",
   "version": "3.6.12"
  }
 },
 "nbformat": 4,
 "nbformat_minor": 4
}
